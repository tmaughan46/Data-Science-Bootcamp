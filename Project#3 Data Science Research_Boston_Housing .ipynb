{
 "cells": [
  {
   "cell_type": "markdown",
   "metadata": {},
   "source": [
    "Import Data Set from scikit learn"
   ]
  },
  {
   "cell_type": "code",
   "execution_count": 2,
   "metadata": {},
   "outputs": [],
   "source": [
    "import pandas as pd\n",
    "import numpy as np\n",
    "from scipy.stats import skew\n",
    "import math as m\n",
    "import matplotlib.pyplot as plt\n",
    "import seaborn as sns\n",
    "import statsmodels.api as sm\n",
    "from statsmodels.stats.anova import anova_lm\n",
    "from sklearn.datasets import load_boston"
   ]
  },
  {
   "cell_type": "code",
   "execution_count": 3,
   "metadata": {},
   "outputs": [],
   "source": [
    "dataset_boston = load_boston()\n",
    "df= pd.DataFrame(dataset_boston.data, columns=dataset_boston.feature_names)\n",
    "df['MEDV'] = dataset_boston.target"
   ]
  },
  {
   "cell_type": "code",
   "execution_count": 4,
   "metadata": {},
   "outputs": [
    {
     "data": {
      "text/plain": [
       "dict_keys(['data', 'target', 'feature_names', 'DESCR', 'filename'])"
      ]
     },
     "execution_count": 4,
     "metadata": {},
     "output_type": "execute_result"
    }
   ],
   "source": [
    "dataset_boston.keys()\n"
   ]
  },
  {
   "cell_type": "code",
   "execution_count": 5,
   "metadata": {
    "scrolled": true
   },
   "outputs": [
    {
     "data": {
      "text/html": [
       "<div>\n",
       "<style scoped>\n",
       "    .dataframe tbody tr th:only-of-type {\n",
       "        vertical-align: middle;\n",
       "    }\n",
       "\n",
       "    .dataframe tbody tr th {\n",
       "        vertical-align: top;\n",
       "    }\n",
       "\n",
       "    .dataframe thead th {\n",
       "        text-align: right;\n",
       "    }\n",
       "</style>\n",
       "<table border=\"1\" class=\"dataframe\">\n",
       "  <thead>\n",
       "    <tr style=\"text-align: right;\">\n",
       "      <th></th>\n",
       "      <th>CRIM</th>\n",
       "      <th>ZN</th>\n",
       "      <th>INDUS</th>\n",
       "      <th>CHAS</th>\n",
       "      <th>NOX</th>\n",
       "      <th>RM</th>\n",
       "      <th>AGE</th>\n",
       "      <th>DIS</th>\n",
       "      <th>RAD</th>\n",
       "      <th>TAX</th>\n",
       "      <th>PTRATIO</th>\n",
       "      <th>B</th>\n",
       "      <th>LSTAT</th>\n",
       "      <th>MEDV</th>\n",
       "    </tr>\n",
       "  </thead>\n",
       "  <tbody>\n",
       "    <tr>\n",
       "      <th>0</th>\n",
       "      <td>0.00632</td>\n",
       "      <td>18.0</td>\n",
       "      <td>2.31</td>\n",
       "      <td>0.0</td>\n",
       "      <td>0.538</td>\n",
       "      <td>6.575</td>\n",
       "      <td>65.2</td>\n",
       "      <td>4.0900</td>\n",
       "      <td>1.0</td>\n",
       "      <td>296.0</td>\n",
       "      <td>15.3</td>\n",
       "      <td>396.90</td>\n",
       "      <td>4.98</td>\n",
       "      <td>24.0</td>\n",
       "    </tr>\n",
       "    <tr>\n",
       "      <th>1</th>\n",
       "      <td>0.02731</td>\n",
       "      <td>0.0</td>\n",
       "      <td>7.07</td>\n",
       "      <td>0.0</td>\n",
       "      <td>0.469</td>\n",
       "      <td>6.421</td>\n",
       "      <td>78.9</td>\n",
       "      <td>4.9671</td>\n",
       "      <td>2.0</td>\n",
       "      <td>242.0</td>\n",
       "      <td>17.8</td>\n",
       "      <td>396.90</td>\n",
       "      <td>9.14</td>\n",
       "      <td>21.6</td>\n",
       "    </tr>\n",
       "    <tr>\n",
       "      <th>2</th>\n",
       "      <td>0.02729</td>\n",
       "      <td>0.0</td>\n",
       "      <td>7.07</td>\n",
       "      <td>0.0</td>\n",
       "      <td>0.469</td>\n",
       "      <td>7.185</td>\n",
       "      <td>61.1</td>\n",
       "      <td>4.9671</td>\n",
       "      <td>2.0</td>\n",
       "      <td>242.0</td>\n",
       "      <td>17.8</td>\n",
       "      <td>392.83</td>\n",
       "      <td>4.03</td>\n",
       "      <td>34.7</td>\n",
       "    </tr>\n",
       "    <tr>\n",
       "      <th>3</th>\n",
       "      <td>0.03237</td>\n",
       "      <td>0.0</td>\n",
       "      <td>2.18</td>\n",
       "      <td>0.0</td>\n",
       "      <td>0.458</td>\n",
       "      <td>6.998</td>\n",
       "      <td>45.8</td>\n",
       "      <td>6.0622</td>\n",
       "      <td>3.0</td>\n",
       "      <td>222.0</td>\n",
       "      <td>18.7</td>\n",
       "      <td>394.63</td>\n",
       "      <td>2.94</td>\n",
       "      <td>33.4</td>\n",
       "    </tr>\n",
       "    <tr>\n",
       "      <th>4</th>\n",
       "      <td>0.06905</td>\n",
       "      <td>0.0</td>\n",
       "      <td>2.18</td>\n",
       "      <td>0.0</td>\n",
       "      <td>0.458</td>\n",
       "      <td>7.147</td>\n",
       "      <td>54.2</td>\n",
       "      <td>6.0622</td>\n",
       "      <td>3.0</td>\n",
       "      <td>222.0</td>\n",
       "      <td>18.7</td>\n",
       "      <td>396.90</td>\n",
       "      <td>5.33</td>\n",
       "      <td>36.2</td>\n",
       "    </tr>\n",
       "  </tbody>\n",
       "</table>\n",
       "</div>"
      ],
      "text/plain": [
       "      CRIM    ZN  INDUS  CHAS    NOX     RM   AGE     DIS  RAD    TAX  \\\n",
       "0  0.00632  18.0   2.31   0.0  0.538  6.575  65.2  4.0900  1.0  296.0   \n",
       "1  0.02731   0.0   7.07   0.0  0.469  6.421  78.9  4.9671  2.0  242.0   \n",
       "2  0.02729   0.0   7.07   0.0  0.469  7.185  61.1  4.9671  2.0  242.0   \n",
       "3  0.03237   0.0   2.18   0.0  0.458  6.998  45.8  6.0622  3.0  222.0   \n",
       "4  0.06905   0.0   2.18   0.0  0.458  7.147  54.2  6.0622  3.0  222.0   \n",
       "\n",
       "   PTRATIO       B  LSTAT  MEDV  \n",
       "0     15.3  396.90   4.98  24.0  \n",
       "1     17.8  396.90   9.14  21.6  \n",
       "2     17.8  392.83   4.03  34.7  \n",
       "3     18.7  394.63   2.94  33.4  \n",
       "4     18.7  396.90   5.33  36.2  "
      ]
     },
     "execution_count": 5,
     "metadata": {},
     "output_type": "execute_result"
    }
   ],
   "source": [
    "df.head()"
   ]
  },
  {
   "cell_type": "markdown",
   "metadata": {},
   "source": [
    "Data is loaded into Pandas\n",
    "Proceeding with question #1"
   ]
  },
  {
   "cell_type": "code",
   "execution_count": 6,
   "metadata": {},
   "outputs": [
    {
     "data": {
      "text/plain": [
       "(506, 14)"
      ]
     },
     "execution_count": 6,
     "metadata": {},
     "output_type": "execute_result"
    }
   ],
   "source": [
    "df.shape\n"
   ]
  },
  {
   "cell_type": "code",
   "execution_count": 7,
   "metadata": {
    "scrolled": false
   },
   "outputs": [
    {
     "data": {
      "text/html": [
       "<div>\n",
       "<style scoped>\n",
       "    .dataframe tbody tr th:only-of-type {\n",
       "        vertical-align: middle;\n",
       "    }\n",
       "\n",
       "    .dataframe tbody tr th {\n",
       "        vertical-align: top;\n",
       "    }\n",
       "\n",
       "    .dataframe thead th {\n",
       "        text-align: right;\n",
       "    }\n",
       "</style>\n",
       "<table border=\"1\" class=\"dataframe\">\n",
       "  <thead>\n",
       "    <tr style=\"text-align: right;\">\n",
       "      <th></th>\n",
       "      <th>CRIM</th>\n",
       "      <th>ZN</th>\n",
       "      <th>INDUS</th>\n",
       "      <th>CHAS</th>\n",
       "      <th>NOX</th>\n",
       "      <th>RM</th>\n",
       "      <th>AGE</th>\n",
       "      <th>DIS</th>\n",
       "      <th>RAD</th>\n",
       "      <th>TAX</th>\n",
       "      <th>PTRATIO</th>\n",
       "      <th>B</th>\n",
       "      <th>LSTAT</th>\n",
       "      <th>MEDV</th>\n",
       "    </tr>\n",
       "  </thead>\n",
       "  <tbody>\n",
       "    <tr>\n",
       "      <th>CRIM</th>\n",
       "      <td>100.0</td>\n",
       "      <td>-20.0</td>\n",
       "      <td>41.0</td>\n",
       "      <td>-6.0</td>\n",
       "      <td>42.0</td>\n",
       "      <td>-22.0</td>\n",
       "      <td>35.0</td>\n",
       "      <td>-38.0</td>\n",
       "      <td>63.0</td>\n",
       "      <td>58.0</td>\n",
       "      <td>29.0</td>\n",
       "      <td>-39.0</td>\n",
       "      <td>46.0</td>\n",
       "      <td>-39.0</td>\n",
       "    </tr>\n",
       "    <tr>\n",
       "      <th>ZN</th>\n",
       "      <td>-20.0</td>\n",
       "      <td>100.0</td>\n",
       "      <td>-53.0</td>\n",
       "      <td>-4.0</td>\n",
       "      <td>-52.0</td>\n",
       "      <td>31.0</td>\n",
       "      <td>-57.0</td>\n",
       "      <td>66.0</td>\n",
       "      <td>-31.0</td>\n",
       "      <td>-31.0</td>\n",
       "      <td>-39.0</td>\n",
       "      <td>18.0</td>\n",
       "      <td>-41.0</td>\n",
       "      <td>36.0</td>\n",
       "    </tr>\n",
       "    <tr>\n",
       "      <th>INDUS</th>\n",
       "      <td>41.0</td>\n",
       "      <td>-53.0</td>\n",
       "      <td>100.0</td>\n",
       "      <td>6.0</td>\n",
       "      <td>76.0</td>\n",
       "      <td>-39.0</td>\n",
       "      <td>64.0</td>\n",
       "      <td>-71.0</td>\n",
       "      <td>60.0</td>\n",
       "      <td>72.0</td>\n",
       "      <td>38.0</td>\n",
       "      <td>-36.0</td>\n",
       "      <td>60.0</td>\n",
       "      <td>-48.0</td>\n",
       "    </tr>\n",
       "    <tr>\n",
       "      <th>CHAS</th>\n",
       "      <td>-6.0</td>\n",
       "      <td>-4.0</td>\n",
       "      <td>6.0</td>\n",
       "      <td>100.0</td>\n",
       "      <td>9.0</td>\n",
       "      <td>9.0</td>\n",
       "      <td>9.0</td>\n",
       "      <td>-10.0</td>\n",
       "      <td>-1.0</td>\n",
       "      <td>-4.0</td>\n",
       "      <td>-12.0</td>\n",
       "      <td>5.0</td>\n",
       "      <td>-5.0</td>\n",
       "      <td>18.0</td>\n",
       "    </tr>\n",
       "    <tr>\n",
       "      <th>NOX</th>\n",
       "      <td>42.0</td>\n",
       "      <td>-52.0</td>\n",
       "      <td>76.0</td>\n",
       "      <td>9.0</td>\n",
       "      <td>100.0</td>\n",
       "      <td>-30.0</td>\n",
       "      <td>73.0</td>\n",
       "      <td>-77.0</td>\n",
       "      <td>61.0</td>\n",
       "      <td>67.0</td>\n",
       "      <td>19.0</td>\n",
       "      <td>-38.0</td>\n",
       "      <td>59.0</td>\n",
       "      <td>-43.0</td>\n",
       "    </tr>\n",
       "    <tr>\n",
       "      <th>RM</th>\n",
       "      <td>-22.0</td>\n",
       "      <td>31.0</td>\n",
       "      <td>-39.0</td>\n",
       "      <td>9.0</td>\n",
       "      <td>-30.0</td>\n",
       "      <td>100.0</td>\n",
       "      <td>-24.0</td>\n",
       "      <td>21.0</td>\n",
       "      <td>-21.0</td>\n",
       "      <td>-29.0</td>\n",
       "      <td>-36.0</td>\n",
       "      <td>13.0</td>\n",
       "      <td>-61.0</td>\n",
       "      <td>70.0</td>\n",
       "    </tr>\n",
       "    <tr>\n",
       "      <th>AGE</th>\n",
       "      <td>35.0</td>\n",
       "      <td>-57.0</td>\n",
       "      <td>64.0</td>\n",
       "      <td>9.0</td>\n",
       "      <td>73.0</td>\n",
       "      <td>-24.0</td>\n",
       "      <td>100.0</td>\n",
       "      <td>-75.0</td>\n",
       "      <td>46.0</td>\n",
       "      <td>51.0</td>\n",
       "      <td>26.0</td>\n",
       "      <td>-27.0</td>\n",
       "      <td>60.0</td>\n",
       "      <td>-38.0</td>\n",
       "    </tr>\n",
       "    <tr>\n",
       "      <th>DIS</th>\n",
       "      <td>-38.0</td>\n",
       "      <td>66.0</td>\n",
       "      <td>-71.0</td>\n",
       "      <td>-10.0</td>\n",
       "      <td>-77.0</td>\n",
       "      <td>21.0</td>\n",
       "      <td>-75.0</td>\n",
       "      <td>100.0</td>\n",
       "      <td>-49.0</td>\n",
       "      <td>-53.0</td>\n",
       "      <td>-23.0</td>\n",
       "      <td>29.0</td>\n",
       "      <td>-50.0</td>\n",
       "      <td>25.0</td>\n",
       "    </tr>\n",
       "    <tr>\n",
       "      <th>RAD</th>\n",
       "      <td>63.0</td>\n",
       "      <td>-31.0</td>\n",
       "      <td>60.0</td>\n",
       "      <td>-1.0</td>\n",
       "      <td>61.0</td>\n",
       "      <td>-21.0</td>\n",
       "      <td>46.0</td>\n",
       "      <td>-49.0</td>\n",
       "      <td>100.0</td>\n",
       "      <td>91.0</td>\n",
       "      <td>46.0</td>\n",
       "      <td>-44.0</td>\n",
       "      <td>49.0</td>\n",
       "      <td>-38.0</td>\n",
       "    </tr>\n",
       "    <tr>\n",
       "      <th>TAX</th>\n",
       "      <td>58.0</td>\n",
       "      <td>-31.0</td>\n",
       "      <td>72.0</td>\n",
       "      <td>-4.0</td>\n",
       "      <td>67.0</td>\n",
       "      <td>-29.0</td>\n",
       "      <td>51.0</td>\n",
       "      <td>-53.0</td>\n",
       "      <td>91.0</td>\n",
       "      <td>100.0</td>\n",
       "      <td>46.0</td>\n",
       "      <td>-44.0</td>\n",
       "      <td>54.0</td>\n",
       "      <td>-47.0</td>\n",
       "    </tr>\n",
       "    <tr>\n",
       "      <th>PTRATIO</th>\n",
       "      <td>29.0</td>\n",
       "      <td>-39.0</td>\n",
       "      <td>38.0</td>\n",
       "      <td>-12.0</td>\n",
       "      <td>19.0</td>\n",
       "      <td>-36.0</td>\n",
       "      <td>26.0</td>\n",
       "      <td>-23.0</td>\n",
       "      <td>46.0</td>\n",
       "      <td>46.0</td>\n",
       "      <td>100.0</td>\n",
       "      <td>-18.0</td>\n",
       "      <td>37.0</td>\n",
       "      <td>-51.0</td>\n",
       "    </tr>\n",
       "    <tr>\n",
       "      <th>B</th>\n",
       "      <td>-39.0</td>\n",
       "      <td>18.0</td>\n",
       "      <td>-36.0</td>\n",
       "      <td>5.0</td>\n",
       "      <td>-38.0</td>\n",
       "      <td>13.0</td>\n",
       "      <td>-27.0</td>\n",
       "      <td>29.0</td>\n",
       "      <td>-44.0</td>\n",
       "      <td>-44.0</td>\n",
       "      <td>-18.0</td>\n",
       "      <td>100.0</td>\n",
       "      <td>-37.0</td>\n",
       "      <td>33.0</td>\n",
       "    </tr>\n",
       "    <tr>\n",
       "      <th>LSTAT</th>\n",
       "      <td>46.0</td>\n",
       "      <td>-41.0</td>\n",
       "      <td>60.0</td>\n",
       "      <td>-5.0</td>\n",
       "      <td>59.0</td>\n",
       "      <td>-61.0</td>\n",
       "      <td>60.0</td>\n",
       "      <td>-50.0</td>\n",
       "      <td>49.0</td>\n",
       "      <td>54.0</td>\n",
       "      <td>37.0</td>\n",
       "      <td>-37.0</td>\n",
       "      <td>100.0</td>\n",
       "      <td>-74.0</td>\n",
       "    </tr>\n",
       "    <tr>\n",
       "      <th>MEDV</th>\n",
       "      <td>-39.0</td>\n",
       "      <td>36.0</td>\n",
       "      <td>-48.0</td>\n",
       "      <td>18.0</td>\n",
       "      <td>-43.0</td>\n",
       "      <td>70.0</td>\n",
       "      <td>-38.0</td>\n",
       "      <td>25.0</td>\n",
       "      <td>-38.0</td>\n",
       "      <td>-47.0</td>\n",
       "      <td>-51.0</td>\n",
       "      <td>33.0</td>\n",
       "      <td>-74.0</td>\n",
       "      <td>100.0</td>\n",
       "    </tr>\n",
       "  </tbody>\n",
       "</table>\n",
       "</div>"
      ],
      "text/plain": [
       "          CRIM     ZN  INDUS   CHAS    NOX     RM    AGE    DIS    RAD    TAX  \\\n",
       "CRIM     100.0  -20.0   41.0   -6.0   42.0  -22.0   35.0  -38.0   63.0   58.0   \n",
       "ZN       -20.0  100.0  -53.0   -4.0  -52.0   31.0  -57.0   66.0  -31.0  -31.0   \n",
       "INDUS     41.0  -53.0  100.0    6.0   76.0  -39.0   64.0  -71.0   60.0   72.0   \n",
       "CHAS      -6.0   -4.0    6.0  100.0    9.0    9.0    9.0  -10.0   -1.0   -4.0   \n",
       "NOX       42.0  -52.0   76.0    9.0  100.0  -30.0   73.0  -77.0   61.0   67.0   \n",
       "RM       -22.0   31.0  -39.0    9.0  -30.0  100.0  -24.0   21.0  -21.0  -29.0   \n",
       "AGE       35.0  -57.0   64.0    9.0   73.0  -24.0  100.0  -75.0   46.0   51.0   \n",
       "DIS      -38.0   66.0  -71.0  -10.0  -77.0   21.0  -75.0  100.0  -49.0  -53.0   \n",
       "RAD       63.0  -31.0   60.0   -1.0   61.0  -21.0   46.0  -49.0  100.0   91.0   \n",
       "TAX       58.0  -31.0   72.0   -4.0   67.0  -29.0   51.0  -53.0   91.0  100.0   \n",
       "PTRATIO   29.0  -39.0   38.0  -12.0   19.0  -36.0   26.0  -23.0   46.0   46.0   \n",
       "B        -39.0   18.0  -36.0    5.0  -38.0   13.0  -27.0   29.0  -44.0  -44.0   \n",
       "LSTAT     46.0  -41.0   60.0   -5.0   59.0  -61.0   60.0  -50.0   49.0   54.0   \n",
       "MEDV     -39.0   36.0  -48.0   18.0  -43.0   70.0  -38.0   25.0  -38.0  -47.0   \n",
       "\n",
       "         PTRATIO      B  LSTAT   MEDV  \n",
       "CRIM        29.0  -39.0   46.0  -39.0  \n",
       "ZN         -39.0   18.0  -41.0   36.0  \n",
       "INDUS       38.0  -36.0   60.0  -48.0  \n",
       "CHAS       -12.0    5.0   -5.0   18.0  \n",
       "NOX         19.0  -38.0   59.0  -43.0  \n",
       "RM         -36.0   13.0  -61.0   70.0  \n",
       "AGE         26.0  -27.0   60.0  -38.0  \n",
       "DIS        -23.0   29.0  -50.0   25.0  \n",
       "RAD         46.0  -44.0   49.0  -38.0  \n",
       "TAX         46.0  -44.0   54.0  -47.0  \n",
       "PTRATIO    100.0  -18.0   37.0  -51.0  \n",
       "B          -18.0  100.0  -37.0   33.0  \n",
       "LSTAT       37.0  -37.0  100.0  -74.0  \n",
       "MEDV       -51.0   33.0  -74.0  100.0  "
      ]
     },
     "execution_count": 7,
     "metadata": {},
     "output_type": "execute_result"
    }
   ],
   "source": [
    "df.corr().round(2)*100"
   ]
  },
  {
   "cell_type": "markdown",
   "metadata": {},
   "source": [
    "# <font color='red'> Question 1. Pick and explore:\n",
    "## Based on the table correlation RM, PTRATIO, and LSTAT have the highest correlation to the target MEDV.  \n",
    "## I chose to look at PTRATIO since this could be an indicator of a good school district and is a key critieria for me in realestate purchasing.  "
   ]
  },
  {
   "cell_type": "code",
   "execution_count": 8,
   "metadata": {},
   "outputs": [
    {
     "data": {
      "text/plain": [
       "18.46"
      ]
     },
     "execution_count": 8,
     "metadata": {},
     "output_type": "execute_result"
    }
   ],
   "source": [
    "mean = df['PTRATIO'].mean()\n",
    "round(mean,2)"
   ]
  },
  {
   "cell_type": "code",
   "execution_count": 9,
   "metadata": {},
   "outputs": [
    {
     "data": {
      "text/plain": [
       "2.16"
      ]
     },
     "execution_count": 9,
     "metadata": {},
     "output_type": "execute_result"
    }
   ],
   "source": [
    "std = df['PTRATIO'].std()\n",
    "round(std,2)"
   ]
  },
  {
   "cell_type": "code",
   "execution_count": 10,
   "metadata": {},
   "outputs": [
    {
     "data": {
      "text/plain": [
       "count    506.000000\n",
       "mean      18.455534\n",
       "std        2.164946\n",
       "min       12.600000\n",
       "25%       17.400000\n",
       "50%       19.050000\n",
       "75%       20.200000\n",
       "max       22.000000\n",
       "Name: PTRATIO, dtype: float64"
      ]
     },
     "execution_count": 10,
     "metadata": {},
     "output_type": "execute_result"
    }
   ],
   "source": [
    "df['PTRATIO'].describe()"
   ]
  },
  {
   "cell_type": "markdown",
   "metadata": {},
   "source": [
    "To quantitivley calculate bins I like to use the freeman-diaconis equation.  Requires the data range, IQR, and n.  Based on this equation I calcualted I need 14 bins.  \n",
    "\n",
    "Note: this is 8 fewer bins than the excel default (sqrt of n).  "
   ]
  },
  {
   "cell_type": "code",
   "execution_count": 11,
   "metadata": {},
   "outputs": [
    {
     "data": {
      "text/plain": [
       "(array([ 15.,   1.,   1.,  55.,   8.,  32.,  13.,  60.,  50.,  54.,  16.,\n",
       "        145.,  54.,   2.]),\n",
       " array([12.6       , 13.27142857, 13.94285714, 14.61428571, 15.28571429,\n",
       "        15.95714286, 16.62857143, 17.3       , 17.97142857, 18.64285714,\n",
       "        19.31428571, 19.98571429, 20.65714286, 21.32857143, 22.        ]),\n",
       " <a list of 14 Patch objects>)"
      ]
     },
     "execution_count": 11,
     "metadata": {},
     "output_type": "execute_result"
    },
    {
     "data": {
      "image/png": "[encoded data removed]",
      "text/plain": [
       "<Figure size 432x288 with 1 Axes>"
      ]
     },
     "metadata": {
      "needs_background": "light"
     },
     "output_type": "display_data"
    }
   ],
   "source": [
    "%matplotlib inline\n",
    "attr = df['PTRATIO']\n",
    "plt.hist(attr,bins =14)"
   ]
  },
  {
   "cell_type": "markdown",
   "metadata": {},
   "source": [
    "Seaborn Distplot showing the pdf function on the histogram."
   ]
  },
  {
   "cell_type": "code",
   "execution_count": 12,
   "metadata": {},
   "outputs": [
    {
     "data": {
      "text/plain": [
       "<matplotlib.axes._subplots.AxesSubplot at 0x1febe75a808>"
      ]
     },
     "execution_count": 12,
     "metadata": {},
     "output_type": "execute_result"
    },
    {
     "data": {
      "image/png": "[encoded data removed]",
      "text/plain": [
       "<Figure size 432x288 with 1 Axes>"
      ]
     },
     "metadata": {
      "needs_background": "light"
     },
     "output_type": "display_data"
    }
   ],
   "source": [
    "sns.distplot(df['PTRATIO'])"
   ]
  },
  {
   "cell_type": "markdown",
   "metadata": {},
   "source": [
    "The PTRATIO distribution is highly left skewed"
   ]
  },
  {
   "cell_type": "code",
   "execution_count": 13,
   "metadata": {},
   "outputs": [
    {
     "data": {
      "text/plain": [
       "-0.7999445320367449"
      ]
     },
     "execution_count": 13,
     "metadata": {},
     "output_type": "execute_result"
    }
   ],
   "source": [
    "skew(df['PTRATIO'])"
   ]
  },
  {
   "cell_type": "code",
   "execution_count": 14,
   "metadata": {
    "scrolled": true
   },
   "outputs": [
    {
     "data": {
      "image/png": "[encoded data removed]",
      "text/plain": [
       "<Figure size 432x288 with 1 Axes>"
      ]
     },
     "metadata": {
      "needs_background": "light"
     },
     "output_type": "display_data"
    }
   ],
   "source": [
    "%matplotlib inline\n",
    "X, y = df['PTRATIO'], df['MEDV']\n",
    "Reg = sns.regplot(X,y)"
   ]
  },
  {
   "cell_type": "code",
   "execution_count": 15,
   "metadata": {},
   "outputs": [
    {
     "data": {
      "text/plain": [
       "<matplotlib.axes._subplots.AxesSubplot at 0x1febe879a48>"
      ]
     },
     "execution_count": 15,
     "metadata": {},
     "output_type": "execute_result"
    },
    {
     "data": {
      "image/png": "[encoded data removed]",
      "text/plain": [
       "<Figure size 864x720 with 1 Axes>"
      ]
     },
     "metadata": {
      "needs_background": "light"
     },
     "output_type": "display_data"
    }
   ],
   "source": [
    "ax = plt.figure(figsize=(12, 10)).gca() # define axis\n",
    "sns.regplot(x=\"PTRATIO\", y=\"MEDV\", data=df, ax = ax)"
   ]
  },
  {
   "cell_type": "code",
   "execution_count": 16,
   "metadata": {},
   "outputs": [
    {
     "data": {
      "text/html": [
       "<table class=\"simpletable\">\n",
       "<caption>OLS Regression Results</caption>\n",
       "<tr>\n",
       "  <th>Dep. Variable:</th>          <td>MEDV</td>       <th>  R-squared:         </th> <td>   0.258</td>\n",
       "</tr>\n",
       "<tr>\n",
       "  <th>Model:</th>                   <td>OLS</td>       <th>  Adj. R-squared:    </th> <td>   0.256</td>\n",
       "</tr>\n",
       "<tr>\n",
       "  <th>Method:</th>             <td>Least Squares</td>  <th>  F-statistic:       </th> <td>   175.1</td>\n",
       "</tr>\n",
       "<tr>\n",
       "  <th>Date:</th>             <td>Wed, 12 Aug 2020</td> <th>  Prob (F-statistic):</th> <td>1.61e-34</td>\n",
       "</tr>\n",
       "<tr>\n",
       "  <th>Time:</th>                 <td>14:53:46</td>     <th>  Log-Likelihood:    </th> <td> -1764.8</td>\n",
       "</tr>\n",
       "<tr>\n",
       "  <th>No. Observations:</th>      <td>   506</td>      <th>  AIC:               </th> <td>   3534.</td>\n",
       "</tr>\n",
       "<tr>\n",
       "  <th>Df Residuals:</th>          <td>   504</td>      <th>  BIC:               </th> <td>   3542.</td>\n",
       "</tr>\n",
       "<tr>\n",
       "  <th>Df Model:</th>              <td>     1</td>      <th>                     </th>     <td> </td>   \n",
       "</tr>\n",
       "<tr>\n",
       "  <th>Covariance Type:</th>      <td>nonrobust</td>    <th>                     </th>     <td> </td>   \n",
       "</tr>\n",
       "</table>\n",
       "<table class=\"simpletable\">\n",
       "<tr>\n",
       "     <td></td>        <th>coef</th>     <th>std err</th>      <th>t</th>      <th>P>|t|</th>  <th>[0.025</th>    <th>0.975]</th>  \n",
       "</tr>\n",
       "<tr>\n",
       "  <th>const</th>   <td>   62.3446</td> <td>    3.029</td> <td>   20.581</td> <td> 0.000</td> <td>   56.393</td> <td>   68.296</td>\n",
       "</tr>\n",
       "<tr>\n",
       "  <th>PTRATIO</th> <td>   -2.1572</td> <td>    0.163</td> <td>  -13.233</td> <td> 0.000</td> <td>   -2.477</td> <td>   -1.837</td>\n",
       "</tr>\n",
       "</table>\n",
       "<table class=\"simpletable\">\n",
       "<tr>\n",
       "  <th>Omnibus:</th>       <td>92.924</td> <th>  Durbin-Watson:     </th> <td>   0.725</td>\n",
       "</tr>\n",
       "<tr>\n",
       "  <th>Prob(Omnibus):</th> <td> 0.000</td> <th>  Jarque-Bera (JB):  </th> <td> 191.444</td>\n",
       "</tr>\n",
       "<tr>\n",
       "  <th>Skew:</th>          <td> 1.001</td> <th>  Prob(JB):          </th> <td>2.68e-42</td>\n",
       "</tr>\n",
       "<tr>\n",
       "  <th>Kurtosis:</th>      <td> 5.252</td> <th>  Cond. No.          </th> <td>    160.</td>\n",
       "</tr>\n",
       "</table><br/><br/>Warnings:<br/>[1] Standard Errors assume that the covariance matrix of the errors is correctly specified."
      ],
      "text/plain": [
       "<class 'statsmodels.iolib.summary.Summary'>\n",
       "\"\"\"\n",
       "                            OLS Regression Results                            \n",
       "==============================================================================\n",
       "Dep. Variable:                   MEDV   R-squared:                       0.258\n",
       "Model:                            OLS   Adj. R-squared:                  0.256\n",
       "Method:                 Least Squares   F-statistic:                     175.1\n",
       "Date:                Wed, 12 Aug 2020   Prob (F-statistic):           1.61e-34\n",
       "Time:                        14:53:46   Log-Likelihood:                -1764.8\n",
       "No. Observations:                 506   AIC:                             3534.\n",
       "Df Residuals:                     504   BIC:                             3542.\n",
       "Df Model:                           1                                         \n",
       "Covariance Type:            nonrobust                                         \n",
       "==============================================================================\n",
       "                 coef    std err          t      P>|t|      [0.025      0.975]\n",
       "------------------------------------------------------------------------------\n",
       "const         62.3446      3.029     20.581      0.000      56.393      68.296\n",
       "PTRATIO       -2.1572      0.163    -13.233      0.000      -2.477      -1.837\n",
       "==============================================================================\n",
       "Omnibus:                       92.924   Durbin-Watson:                   0.725\n",
       "Prob(Omnibus):                  0.000   Jarque-Bera (JB):              191.444\n",
       "Skew:                           1.001   Prob(JB):                     2.68e-42\n",
       "Kurtosis:                       5.252   Cond. No.                         160.\n",
       "==============================================================================\n",
       "\n",
       "Warnings:\n",
       "[1] Standard Errors assume that the covariance matrix of the errors is correctly specified.\n",
       "\"\"\""
      ]
     },
     "execution_count": 16,
     "metadata": {},
     "output_type": "execute_result"
    }
   ],
   "source": [
    "import statsmodels.api as sm # import statsmodels \n",
    "\n",
    "X = df[\"PTRATIO\"] ## X usually means our input variables (or independent variables)\n",
    "y = df[\"MEDV\"] ## Y usually means our output/dependent variable\n",
    "X = sm.add_constant(X) ## let's add an intercept (beta_0) to our model\n",
    "\n",
    "# Note the difference in argument order\n",
    "model = sm.OLS(y, X).fit() ## sm.OLS(output, input)\n",
    "predictions = model.predict(X)\n",
    "\n",
    "# Print out the statistics\n",
    "model.summary()"
   ]
  },
  {
   "cell_type": "markdown",
   "metadata": {},
   "source": [
    "## The predictive relationship of PTRATIO provide by the \n",
    "## ANOVA table:  -2.15*PTRATIO + 62.34"
   ]
  },
  {
   "cell_type": "markdown",
   "metadata": {},
   "source": [
    "# <font color='red'> Drop the censored value (50) in the target and test for statistical differences. "
   ]
  },
  {
   "cell_type": "code",
   "execution_count": 17,
   "metadata": {},
   "outputs": [],
   "source": [
    "df2=df.copy() # Copy original data frame into new working data frame. "
   ]
  },
  {
   "cell_type": "code",
   "execution_count": 18,
   "metadata": {},
   "outputs": [
    {
     "data": {
      "text/plain": [
       "(490, 14)"
      ]
     },
     "execution_count": 18,
     "metadata": {},
     "output_type": "execute_result"
    }
   ],
   "source": [
    "censorIndex = df2[df2['MEDV']==50].index  #drop the censored values from new dataframe\n",
    "df2.drop(censorIndex, inplace=True)\n",
    "df2.shape"
   ]
  },
  {
   "cell_type": "code",
   "execution_count": 19,
   "metadata": {},
   "outputs": [
    {
     "data": {
      "text/html": [
       "<div>\n",
       "<style scoped>\n",
       "    .dataframe tbody tr th:only-of-type {\n",
       "        vertical-align: middle;\n",
       "    }\n",
       "\n",
       "    .dataframe tbody tr th {\n",
       "        vertical-align: top;\n",
       "    }\n",
       "\n",
       "    .dataframe thead th {\n",
       "        text-align: right;\n",
       "    }\n",
       "</style>\n",
       "<table border=\"1\" class=\"dataframe\">\n",
       "  <thead>\n",
       "    <tr style=\"text-align: right;\">\n",
       "      <th></th>\n",
       "      <th>CRIM</th>\n",
       "      <th>ZN</th>\n",
       "      <th>INDUS</th>\n",
       "      <th>CHAS</th>\n",
       "      <th>NOX</th>\n",
       "      <th>RM</th>\n",
       "      <th>AGE</th>\n",
       "      <th>DIS</th>\n",
       "      <th>RAD</th>\n",
       "      <th>TAX</th>\n",
       "      <th>PTRATIO</th>\n",
       "      <th>B</th>\n",
       "      <th>LSTAT</th>\n",
       "      <th>MEDV</th>\n",
       "    </tr>\n",
       "  </thead>\n",
       "  <tbody>\n",
       "    <tr>\n",
       "      <th>CRIM</th>\n",
       "      <td>1.00</td>\n",
       "      <td>-0.20</td>\n",
       "      <td>0.41</td>\n",
       "      <td>-0.06</td>\n",
       "      <td>0.42</td>\n",
       "      <td>-0.22</td>\n",
       "      <td>0.35</td>\n",
       "      <td>-0.38</td>\n",
       "      <td>0.63</td>\n",
       "      <td>0.58</td>\n",
       "      <td>0.29</td>\n",
       "      <td>-0.38</td>\n",
       "      <td>0.46</td>\n",
       "      <td>-0.45</td>\n",
       "    </tr>\n",
       "    <tr>\n",
       "      <th>ZN</th>\n",
       "      <td>-0.20</td>\n",
       "      <td>1.00</td>\n",
       "      <td>-0.53</td>\n",
       "      <td>-0.05</td>\n",
       "      <td>-0.51</td>\n",
       "      <td>0.31</td>\n",
       "      <td>-0.56</td>\n",
       "      <td>0.67</td>\n",
       "      <td>-0.31</td>\n",
       "      <td>-0.30</td>\n",
       "      <td>-0.38</td>\n",
       "      <td>0.18</td>\n",
       "      <td>-0.42</td>\n",
       "      <td>0.40</td>\n",
       "    </tr>\n",
       "    <tr>\n",
       "      <th>INDUS</th>\n",
       "      <td>0.41</td>\n",
       "      <td>-0.53</td>\n",
       "      <td>1.00</td>\n",
       "      <td>0.04</td>\n",
       "      <td>0.77</td>\n",
       "      <td>-0.41</td>\n",
       "      <td>0.64</td>\n",
       "      <td>-0.71</td>\n",
       "      <td>0.60</td>\n",
       "      <td>0.72</td>\n",
       "      <td>0.39</td>\n",
       "      <td>-0.36</td>\n",
       "      <td>0.64</td>\n",
       "      <td>-0.60</td>\n",
       "    </tr>\n",
       "    <tr>\n",
       "      <th>CHAS</th>\n",
       "      <td>-0.06</td>\n",
       "      <td>-0.05</td>\n",
       "      <td>0.04</td>\n",
       "      <td>1.00</td>\n",
       "      <td>0.09</td>\n",
       "      <td>0.04</td>\n",
       "      <td>0.07</td>\n",
       "      <td>-0.08</td>\n",
       "      <td>-0.03</td>\n",
       "      <td>-0.07</td>\n",
       "      <td>-0.12</td>\n",
       "      <td>0.04</td>\n",
       "      <td>-0.01</td>\n",
       "      <td>0.07</td>\n",
       "    </tr>\n",
       "    <tr>\n",
       "      <th>NOX</th>\n",
       "      <td>0.42</td>\n",
       "      <td>-0.51</td>\n",
       "      <td>0.77</td>\n",
       "      <td>0.09</td>\n",
       "      <td>1.00</td>\n",
       "      <td>-0.32</td>\n",
       "      <td>0.73</td>\n",
       "      <td>-0.77</td>\n",
       "      <td>0.61</td>\n",
       "      <td>0.67</td>\n",
       "      <td>0.19</td>\n",
       "      <td>-0.38</td>\n",
       "      <td>0.61</td>\n",
       "      <td>-0.52</td>\n",
       "    </tr>\n",
       "    <tr>\n",
       "      <th>RM</th>\n",
       "      <td>-0.22</td>\n",
       "      <td>0.31</td>\n",
       "      <td>-0.41</td>\n",
       "      <td>0.04</td>\n",
       "      <td>-0.32</td>\n",
       "      <td>1.00</td>\n",
       "      <td>-0.27</td>\n",
       "      <td>0.25</td>\n",
       "      <td>-0.20</td>\n",
       "      <td>-0.28</td>\n",
       "      <td>-0.29</td>\n",
       "      <td>0.12</td>\n",
       "      <td>-0.61</td>\n",
       "      <td>0.69</td>\n",
       "    </tr>\n",
       "    <tr>\n",
       "      <th>AGE</th>\n",
       "      <td>0.35</td>\n",
       "      <td>-0.56</td>\n",
       "      <td>0.64</td>\n",
       "      <td>0.07</td>\n",
       "      <td>0.73</td>\n",
       "      <td>-0.27</td>\n",
       "      <td>1.00</td>\n",
       "      <td>-0.74</td>\n",
       "      <td>0.45</td>\n",
       "      <td>0.50</td>\n",
       "      <td>0.27</td>\n",
       "      <td>-0.28</td>\n",
       "      <td>0.64</td>\n",
       "      <td>-0.49</td>\n",
       "    </tr>\n",
       "    <tr>\n",
       "      <th>DIS</th>\n",
       "      <td>-0.38</td>\n",
       "      <td>0.67</td>\n",
       "      <td>-0.71</td>\n",
       "      <td>-0.08</td>\n",
       "      <td>-0.77</td>\n",
       "      <td>0.25</td>\n",
       "      <td>-0.74</td>\n",
       "      <td>1.00</td>\n",
       "      <td>-0.49</td>\n",
       "      <td>-0.53</td>\n",
       "      <td>-0.25</td>\n",
       "      <td>0.30</td>\n",
       "      <td>-0.54</td>\n",
       "      <td>0.37</td>\n",
       "    </tr>\n",
       "    <tr>\n",
       "      <th>RAD</th>\n",
       "      <td>0.63</td>\n",
       "      <td>-0.31</td>\n",
       "      <td>0.60</td>\n",
       "      <td>-0.03</td>\n",
       "      <td>0.61</td>\n",
       "      <td>-0.20</td>\n",
       "      <td>0.45</td>\n",
       "      <td>-0.49</td>\n",
       "      <td>1.00</td>\n",
       "      <td>0.91</td>\n",
       "      <td>0.46</td>\n",
       "      <td>-0.45</td>\n",
       "      <td>0.51</td>\n",
       "      <td>-0.48</td>\n",
       "    </tr>\n",
       "    <tr>\n",
       "      <th>TAX</th>\n",
       "      <td>0.58</td>\n",
       "      <td>-0.30</td>\n",
       "      <td>0.72</td>\n",
       "      <td>-0.07</td>\n",
       "      <td>0.67</td>\n",
       "      <td>-0.28</td>\n",
       "      <td>0.50</td>\n",
       "      <td>-0.53</td>\n",
       "      <td>0.91</td>\n",
       "      <td>1.00</td>\n",
       "      <td>0.45</td>\n",
       "      <td>-0.45</td>\n",
       "      <td>0.57</td>\n",
       "      <td>-0.57</td>\n",
       "    </tr>\n",
       "    <tr>\n",
       "      <th>PTRATIO</th>\n",
       "      <td>0.29</td>\n",
       "      <td>-0.38</td>\n",
       "      <td>0.39</td>\n",
       "      <td>-0.12</td>\n",
       "      <td>0.19</td>\n",
       "      <td>-0.29</td>\n",
       "      <td>0.27</td>\n",
       "      <td>-0.25</td>\n",
       "      <td>0.46</td>\n",
       "      <td>0.45</td>\n",
       "      <td>1.00</td>\n",
       "      <td>-0.17</td>\n",
       "      <td>0.36</td>\n",
       "      <td>-0.52</td>\n",
       "    </tr>\n",
       "    <tr>\n",
       "      <th>B</th>\n",
       "      <td>-0.38</td>\n",
       "      <td>0.18</td>\n",
       "      <td>-0.36</td>\n",
       "      <td>0.04</td>\n",
       "      <td>-0.38</td>\n",
       "      <td>0.12</td>\n",
       "      <td>-0.28</td>\n",
       "      <td>0.30</td>\n",
       "      <td>-0.45</td>\n",
       "      <td>-0.45</td>\n",
       "      <td>-0.17</td>\n",
       "      <td>1.00</td>\n",
       "      <td>-0.36</td>\n",
       "      <td>0.36</td>\n",
       "    </tr>\n",
       "    <tr>\n",
       "      <th>LSTAT</th>\n",
       "      <td>0.46</td>\n",
       "      <td>-0.42</td>\n",
       "      <td>0.64</td>\n",
       "      <td>-0.01</td>\n",
       "      <td>0.61</td>\n",
       "      <td>-0.61</td>\n",
       "      <td>0.64</td>\n",
       "      <td>-0.54</td>\n",
       "      <td>0.51</td>\n",
       "      <td>0.57</td>\n",
       "      <td>0.36</td>\n",
       "      <td>-0.36</td>\n",
       "      <td>1.00</td>\n",
       "      <td>-0.76</td>\n",
       "    </tr>\n",
       "    <tr>\n",
       "      <th>MEDV</th>\n",
       "      <td>-0.45</td>\n",
       "      <td>0.40</td>\n",
       "      <td>-0.60</td>\n",
       "      <td>0.07</td>\n",
       "      <td>-0.52</td>\n",
       "      <td>0.69</td>\n",
       "      <td>-0.49</td>\n",
       "      <td>0.37</td>\n",
       "      <td>-0.48</td>\n",
       "      <td>-0.57</td>\n",
       "      <td>-0.52</td>\n",
       "      <td>0.36</td>\n",
       "      <td>-0.76</td>\n",
       "      <td>1.00</td>\n",
       "    </tr>\n",
       "  </tbody>\n",
       "</table>\n",
       "</div>"
      ],
      "text/plain": [
       "         CRIM    ZN  INDUS  CHAS   NOX    RM   AGE   DIS   RAD   TAX  PTRATIO  \\\n",
       "CRIM     1.00 -0.20   0.41 -0.06  0.42 -0.22  0.35 -0.38  0.63  0.58     0.29   \n",
       "ZN      -0.20  1.00  -0.53 -0.05 -0.51  0.31 -0.56  0.67 -0.31 -0.30    -0.38   \n",
       "INDUS    0.41 -0.53   1.00  0.04  0.77 -0.41  0.64 -0.71  0.60  0.72     0.39   \n",
       "CHAS    -0.06 -0.05   0.04  1.00  0.09  0.04  0.07 -0.08 -0.03 -0.07    -0.12   \n",
       "NOX      0.42 -0.51   0.77  0.09  1.00 -0.32  0.73 -0.77  0.61  0.67     0.19   \n",
       "RM      -0.22  0.31  -0.41  0.04 -0.32  1.00 -0.27  0.25 -0.20 -0.28    -0.29   \n",
       "AGE      0.35 -0.56   0.64  0.07  0.73 -0.27  1.00 -0.74  0.45  0.50     0.27   \n",
       "DIS     -0.38  0.67  -0.71 -0.08 -0.77  0.25 -0.74  1.00 -0.49 -0.53    -0.25   \n",
       "RAD      0.63 -0.31   0.60 -0.03  0.61 -0.20  0.45 -0.49  1.00  0.91     0.46   \n",
       "TAX      0.58 -0.30   0.72 -0.07  0.67 -0.28  0.50 -0.53  0.91  1.00     0.45   \n",
       "PTRATIO  0.29 -0.38   0.39 -0.12  0.19 -0.29  0.27 -0.25  0.46  0.45     1.00   \n",
       "B       -0.38  0.18  -0.36  0.04 -0.38  0.12 -0.28  0.30 -0.45 -0.45    -0.17   \n",
       "LSTAT    0.46 -0.42   0.64 -0.01  0.61 -0.61  0.64 -0.54  0.51  0.57     0.36   \n",
       "MEDV    -0.45  0.40  -0.60  0.07 -0.52  0.69 -0.49  0.37 -0.48 -0.57    -0.52   \n",
       "\n",
       "            B  LSTAT  MEDV  \n",
       "CRIM    -0.38   0.46 -0.45  \n",
       "ZN       0.18  -0.42  0.40  \n",
       "INDUS   -0.36   0.64 -0.60  \n",
       "CHAS     0.04  -0.01  0.07  \n",
       "NOX     -0.38   0.61 -0.52  \n",
       "RM       0.12  -0.61  0.69  \n",
       "AGE     -0.28   0.64 -0.49  \n",
       "DIS      0.30  -0.54  0.37  \n",
       "RAD     -0.45   0.51 -0.48  \n",
       "TAX     -0.45   0.57 -0.57  \n",
       "PTRATIO -0.17   0.36 -0.52  \n",
       "B        1.00  -0.36  0.36  \n",
       "LSTAT   -0.36   1.00 -0.76  \n",
       "MEDV     0.36  -0.76  1.00  "
      ]
     },
     "execution_count": 19,
     "metadata": {},
     "output_type": "execute_result"
    }
   ],
   "source": [
    "df2.corr().round(2)"
   ]
  },
  {
   "cell_type": "code",
   "execution_count": 20,
   "metadata": {},
   "outputs": [
    {
     "data": {
      "text/plain": [
       "490"
      ]
     },
     "execution_count": 20,
     "metadata": {},
     "output_type": "execute_result"
    }
   ],
   "source": [
    "len(df2['PTRATIO']) # Test to see if the new data frame df2 is different from df1"
   ]
  },
  {
   "cell_type": "code",
   "execution_count": 21,
   "metadata": {},
   "outputs": [
    {
     "data": {
      "text/plain": [
       "-0.8211496849996284"
      ]
     },
     "execution_count": 21,
     "metadata": {},
     "output_type": "execute_result"
    }
   ],
   "source": [
    "skew(df2['PTRATIO'])"
   ]
  },
  {
   "cell_type": "code",
   "execution_count": 22,
   "metadata": {},
   "outputs": [
    {
     "data": {
      "text/plain": [
       "count    490.000000\n",
       "mean      18.520000\n",
       "std        2.110478\n",
       "min       12.600000\n",
       "25%       17.400000\n",
       "50%       19.100000\n",
       "75%       20.200000\n",
       "max       22.000000\n",
       "Name: PTRATIO, dtype: float64"
      ]
     },
     "execution_count": 22,
     "metadata": {},
     "output_type": "execute_result"
    }
   ],
   "source": [
    "df2['PTRATIO'].describe()"
   ]
  },
  {
   "cell_type": "code",
   "execution_count": 23,
   "metadata": {
    "scrolled": true
   },
   "outputs": [],
   "source": [
    "#predictors = sm.add_constant(df2.PTRATIO, prepend = False)\n",
    "\n",
    "#lm_mod = sm.OLS(df2.MEDV, predictors)\n",
    "#res = lm_mod.fit()\n",
    "#print(res.summary())\n"
   ]
  },
  {
   "cell_type": "code",
   "execution_count": 24,
   "metadata": {
    "scrolled": true
   },
   "outputs": [
    {
     "data": {
      "text/html": [
       "<table class=\"simpletable\">\n",
       "<caption>OLS Regression Results</caption>\n",
       "<tr>\n",
       "  <th>Dep. Variable:</th>          <td>MEDV</td>       <th>  R-squared:         </th> <td>   0.269</td>\n",
       "</tr>\n",
       "<tr>\n",
       "  <th>Model:</th>                   <td>OLS</td>       <th>  Adj. R-squared:    </th> <td>   0.267</td>\n",
       "</tr>\n",
       "<tr>\n",
       "  <th>Method:</th>             <td>Least Squares</td>  <th>  F-statistic:       </th> <td>   179.6</td>\n",
       "</tr>\n",
       "<tr>\n",
       "  <th>Date:</th>             <td>Wed, 12 Aug 2020</td> <th>  Prob (F-statistic):</th> <td>4.34e-35</td>\n",
       "</tr>\n",
       "<tr>\n",
       "  <th>Time:</th>                 <td>14:53:48</td>     <th>  Log-Likelihood:    </th> <td> -1628.6</td>\n",
       "</tr>\n",
       "<tr>\n",
       "  <th>No. Observations:</th>      <td>   490</td>      <th>  AIC:               </th> <td>   3261.</td>\n",
       "</tr>\n",
       "<tr>\n",
       "  <th>Df Residuals:</th>          <td>   488</td>      <th>  BIC:               </th> <td>   3270.</td>\n",
       "</tr>\n",
       "<tr>\n",
       "  <th>Df Model:</th>              <td>     1</td>      <th>                     </th>     <td> </td>   \n",
       "</tr>\n",
       "<tr>\n",
       "  <th>Covariance Type:</th>      <td>nonrobust</td>    <th>                     </th>     <td> </td>   \n",
       "</tr>\n",
       "</table>\n",
       "<table class=\"simpletable\">\n",
       "<tr>\n",
       "     <td></td>        <th>coef</th>     <th>std err</th>      <th>t</th>      <th>P>|t|</th>  <th>[0.025</th>    <th>0.975]</th>  \n",
       "</tr>\n",
       "<tr>\n",
       "  <th>const</th>   <td>   57.4326</td> <td>    2.689</td> <td>   21.362</td> <td> 0.000</td> <td>   52.150</td> <td>   62.715</td>\n",
       "</tr>\n",
       "<tr>\n",
       "  <th>PTRATIO</th> <td>   -1.9329</td> <td>    0.144</td> <td>  -13.400</td> <td> 0.000</td> <td>   -2.216</td> <td>   -1.649</td>\n",
       "</tr>\n",
       "</table>\n",
       "<table class=\"simpletable\">\n",
       "<tr>\n",
       "  <th>Omnibus:</th>       <td>28.626</td> <th>  Durbin-Watson:     </th> <td>   0.726</td>\n",
       "</tr>\n",
       "<tr>\n",
       "  <th>Prob(Omnibus):</th> <td> 0.000</td> <th>  Jarque-Bera (JB):  </th> <td>  37.404</td>\n",
       "</tr>\n",
       "<tr>\n",
       "  <th>Skew:</th>          <td> 0.496</td> <th>  Prob(JB):          </th> <td>7.55e-09</td>\n",
       "</tr>\n",
       "<tr>\n",
       "  <th>Kurtosis:</th>      <td> 3.921</td> <th>  Cond. No.          </th> <td>    165.</td>\n",
       "</tr>\n",
       "</table><br/><br/>Warnings:<br/>[1] Standard Errors assume that the covariance matrix of the errors is correctly specified."
      ],
      "text/plain": [
       "<class 'statsmodels.iolib.summary.Summary'>\n",
       "\"\"\"\n",
       "                            OLS Regression Results                            \n",
       "==============================================================================\n",
       "Dep. Variable:                   MEDV   R-squared:                       0.269\n",
       "Model:                            OLS   Adj. R-squared:                  0.267\n",
       "Method:                 Least Squares   F-statistic:                     179.6\n",
       "Date:                Wed, 12 Aug 2020   Prob (F-statistic):           4.34e-35\n",
       "Time:                        14:53:48   Log-Likelihood:                -1628.6\n",
       "No. Observations:                 490   AIC:                             3261.\n",
       "Df Residuals:                     488   BIC:                             3270.\n",
       "Df Model:                           1                                         \n",
       "Covariance Type:            nonrobust                                         \n",
       "==============================================================================\n",
       "                 coef    std err          t      P>|t|      [0.025      0.975]\n",
       "------------------------------------------------------------------------------\n",
       "const         57.4326      2.689     21.362      0.000      52.150      62.715\n",
       "PTRATIO       -1.9329      0.144    -13.400      0.000      -2.216      -1.649\n",
       "==============================================================================\n",
       "Omnibus:                       28.626   Durbin-Watson:                   0.726\n",
       "Prob(Omnibus):                  0.000   Jarque-Bera (JB):               37.404\n",
       "Skew:                           0.496   Prob(JB):                     7.55e-09\n",
       "Kurtosis:                       3.921   Cond. No.                         165.\n",
       "==============================================================================\n",
       "\n",
       "Warnings:\n",
       "[1] Standard Errors assume that the covariance matrix of the errors is correctly specified.\n",
       "\"\"\""
      ]
     },
     "execution_count": 24,
     "metadata": {},
     "output_type": "execute_result"
    }
   ],
   "source": [
    "import statsmodels.api as sm # import statsmodels \n",
    "\n",
    "X = df2[\"PTRATIO\"] ## X usually means our input variables (or independent variables)\n",
    "y = df2[\"MEDV\"] ## Y usually means our output/dependent variable\n",
    "X = sm.add_constant(X) ## let's add an intercept (beta_0) to our model\n",
    "\n",
    "# Note the difference in argument order\n",
    "model = sm.OLS(y, X).fit() ## sm.OLS(output, input)\n",
    "predictions = model.predict(X)\n",
    "\n",
    "df2['PTR_yhat']=model.fittedvalues  #add regression columns\n",
    "df2['PTR_Res']=model.resid\n",
    "\n",
    "# Print out the statistics\n",
    "model.summary()"
   ]
  },
  {
   "cell_type": "markdown",
   "metadata": {},
   "source": [
    "##  <font color = blue> Using PTRATIO to predict MEDV the equation changes to -1.93x + 57.43\n",
    "### <font color = red>  While the correlation is reasonable at .51 the correlation of determination is much lower at 0.26\n",
    "\n",
    "    \n",
    "## ** Regression Plot with 50's removed\n",
    "\n"
   ]
  },
  {
   "cell_type": "code",
   "execution_count": 25,
   "metadata": {
    "scrolled": false
   },
   "outputs": [
    {
     "data": {
      "text/plain": [
       "<matplotlib.axes._subplots.AxesSubplot at 0x1febe857748>"
      ]
     },
     "execution_count": 25,
     "metadata": {},
     "output_type": "execute_result"
    },
    {
     "data": {
      "image/png": "[encoded data removed]",
      "text/plain": [
       "<Figure size 864x720 with 1 Axes>"
      ]
     },
     "metadata": {
      "needs_background": "light"
     },
     "output_type": "display_data"
    }
   ],
   "source": [
    "ax = plt.figure(figsize=(12, 10)).gca() # define axis\n",
    "sns.regplot(x=\"PTRATIO\", y=\"MEDV\", data=df2, ax = ax)## regression plot using df2"
   ]
  },
  {
   "cell_type": "markdown",
   "metadata": {},
   "source": [
    "## <font color = blue> Looking at the regression data incorporated into df2"
   ]
  },
  {
   "cell_type": "code",
   "execution_count": null,
   "metadata": {},
   "outputs": [],
   "source": []
  },
  {
   "cell_type": "code",
   "execution_count": 26,
   "metadata": {},
   "outputs": [
    {
     "data": {
      "text/html": [
       "<div>\n",
       "<style scoped>\n",
       "    .dataframe tbody tr th:only-of-type {\n",
       "        vertical-align: middle;\n",
       "    }\n",
       "\n",
       "    .dataframe tbody tr th {\n",
       "        vertical-align: top;\n",
       "    }\n",
       "\n",
       "    .dataframe thead th {\n",
       "        text-align: right;\n",
       "    }\n",
       "</style>\n",
       "<table border=\"1\" class=\"dataframe\">\n",
       "  <thead>\n",
       "    <tr style=\"text-align: right;\">\n",
       "      <th></th>\n",
       "      <th>CRIM</th>\n",
       "      <th>ZN</th>\n",
       "      <th>INDUS</th>\n",
       "      <th>CHAS</th>\n",
       "      <th>NOX</th>\n",
       "      <th>RM</th>\n",
       "      <th>AGE</th>\n",
       "      <th>DIS</th>\n",
       "      <th>RAD</th>\n",
       "      <th>TAX</th>\n",
       "      <th>PTRATIO</th>\n",
       "      <th>B</th>\n",
       "      <th>LSTAT</th>\n",
       "      <th>MEDV</th>\n",
       "      <th>PTR_yhat</th>\n",
       "      <th>PTR_Res</th>\n",
       "    </tr>\n",
       "  </thead>\n",
       "  <tbody>\n",
       "    <tr>\n",
       "      <th>0</th>\n",
       "      <td>0.00632</td>\n",
       "      <td>18.0</td>\n",
       "      <td>2.31</td>\n",
       "      <td>0.0</td>\n",
       "      <td>0.538</td>\n",
       "      <td>6.575</td>\n",
       "      <td>65.2</td>\n",
       "      <td>4.0900</td>\n",
       "      <td>1.0</td>\n",
       "      <td>296.0</td>\n",
       "      <td>15.3</td>\n",
       "      <td>396.90</td>\n",
       "      <td>4.98</td>\n",
       "      <td>24.0</td>\n",
       "      <td>27.859741</td>\n",
       "      <td>-3.859741</td>\n",
       "    </tr>\n",
       "    <tr>\n",
       "      <th>1</th>\n",
       "      <td>0.02731</td>\n",
       "      <td>0.0</td>\n",
       "      <td>7.07</td>\n",
       "      <td>0.0</td>\n",
       "      <td>0.469</td>\n",
       "      <td>6.421</td>\n",
       "      <td>78.9</td>\n",
       "      <td>4.9671</td>\n",
       "      <td>2.0</td>\n",
       "      <td>242.0</td>\n",
       "      <td>17.8</td>\n",
       "      <td>396.90</td>\n",
       "      <td>9.14</td>\n",
       "      <td>21.6</td>\n",
       "      <td>23.027581</td>\n",
       "      <td>-1.427581</td>\n",
       "    </tr>\n",
       "    <tr>\n",
       "      <th>2</th>\n",
       "      <td>0.02729</td>\n",
       "      <td>0.0</td>\n",
       "      <td>7.07</td>\n",
       "      <td>0.0</td>\n",
       "      <td>0.469</td>\n",
       "      <td>7.185</td>\n",
       "      <td>61.1</td>\n",
       "      <td>4.9671</td>\n",
       "      <td>2.0</td>\n",
       "      <td>242.0</td>\n",
       "      <td>17.8</td>\n",
       "      <td>392.83</td>\n",
       "      <td>4.03</td>\n",
       "      <td>34.7</td>\n",
       "      <td>23.027581</td>\n",
       "      <td>11.672419</td>\n",
       "    </tr>\n",
       "    <tr>\n",
       "      <th>3</th>\n",
       "      <td>0.03237</td>\n",
       "      <td>0.0</td>\n",
       "      <td>2.18</td>\n",
       "      <td>0.0</td>\n",
       "      <td>0.458</td>\n",
       "      <td>6.998</td>\n",
       "      <td>45.8</td>\n",
       "      <td>6.0622</td>\n",
       "      <td>3.0</td>\n",
       "      <td>222.0</td>\n",
       "      <td>18.7</td>\n",
       "      <td>394.63</td>\n",
       "      <td>2.94</td>\n",
       "      <td>33.4</td>\n",
       "      <td>21.288003</td>\n",
       "      <td>12.111997</td>\n",
       "    </tr>\n",
       "    <tr>\n",
       "      <th>4</th>\n",
       "      <td>0.06905</td>\n",
       "      <td>0.0</td>\n",
       "      <td>2.18</td>\n",
       "      <td>0.0</td>\n",
       "      <td>0.458</td>\n",
       "      <td>7.147</td>\n",
       "      <td>54.2</td>\n",
       "      <td>6.0622</td>\n",
       "      <td>3.0</td>\n",
       "      <td>222.0</td>\n",
       "      <td>18.7</td>\n",
       "      <td>396.90</td>\n",
       "      <td>5.33</td>\n",
       "      <td>36.2</td>\n",
       "      <td>21.288003</td>\n",
       "      <td>14.911997</td>\n",
       "    </tr>\n",
       "  </tbody>\n",
       "</table>\n",
       "</div>"
      ],
      "text/plain": [
       "      CRIM    ZN  INDUS  CHAS    NOX     RM   AGE     DIS  RAD    TAX  \\\n",
       "0  0.00632  18.0   2.31   0.0  0.538  6.575  65.2  4.0900  1.0  296.0   \n",
       "1  0.02731   0.0   7.07   0.0  0.469  6.421  78.9  4.9671  2.0  242.0   \n",
       "2  0.02729   0.0   7.07   0.0  0.469  7.185  61.1  4.9671  2.0  242.0   \n",
       "3  0.03237   0.0   2.18   0.0  0.458  6.998  45.8  6.0622  3.0  222.0   \n",
       "4  0.06905   0.0   2.18   0.0  0.458  7.147  54.2  6.0622  3.0  222.0   \n",
       "\n",
       "   PTRATIO       B  LSTAT  MEDV   PTR_yhat    PTR_Res  \n",
       "0     15.3  396.90   4.98  24.0  27.859741  -3.859741  \n",
       "1     17.8  396.90   9.14  21.6  23.027581  -1.427581  \n",
       "2     17.8  392.83   4.03  34.7  23.027581  11.672419  \n",
       "3     18.7  394.63   2.94  33.4  21.288003  12.111997  \n",
       "4     18.7  396.90   5.33  36.2  21.288003  14.911997  "
      ]
     },
     "execution_count": 26,
     "metadata": {},
     "output_type": "execute_result"
    }
   ],
   "source": [
    "df2.head()"
   ]
  },
  {
   "cell_type": "code",
   "execution_count": 27,
   "metadata": {},
   "outputs": [
    {
     "data": {
      "text/plain": [
       "count    4.900000e+02\n",
       "mean     1.794120e-14\n",
       "std      6.724770e+00\n",
       "min     -1.721946e+01\n",
       "25%     -4.232088e+00\n",
       "50%     -1.514300e-01\n",
       "75%      3.511294e+00\n",
       "max      2.449927e+01\n",
       "Name: PTR_Res, dtype: float64"
      ]
     },
     "execution_count": 27,
     "metadata": {},
     "output_type": "execute_result"
    }
   ],
   "source": [
    "df2['PTR_Res'].describe()"
   ]
  },
  {
   "cell_type": "code",
   "execution_count": 28,
   "metadata": {},
   "outputs": [
    {
     "data": {
      "text/plain": [
       "<matplotlib.axes._subplots.AxesSubplot at 0x1febe97d108>"
      ]
     },
     "execution_count": 28,
     "metadata": {},
     "output_type": "execute_result"
    },
    {
     "data": {
      "image/png": "[encoded data removed]",
      "text/plain": [
       "<Figure size 864x720 with 1 Axes>"
      ]
     },
     "metadata": {
      "needs_background": "light"
     },
     "output_type": "display_data"
    }
   ],
   "source": [
    "ax = plt.figure(figsize=(12, 10)).gca() # define axis\n",
    "sns.regplot(x=\"PTR_yhat\", y=\"PTR_Res\", data=df2, ax = ax)"
   ]
  },
  {
   "cell_type": "code",
   "execution_count": 29,
   "metadata": {},
   "outputs": [
    {
     "data": {
      "text/plain": [
       "<matplotlib.axes._subplots.AxesSubplot at 0x1febe7c12c8>"
      ]
     },
     "execution_count": 29,
     "metadata": {},
     "output_type": "execute_result"
    },
    {
     "data": {
      "image/png": "[encoded data removed]",
      "text/plain": [
       "<Figure size 432x288 with 1 Axes>"
      ]
     },
     "metadata": {
      "needs_background": "light"
     },
     "output_type": "display_data"
    }
   ],
   "source": [
    "sns.distplot(df2['PTR_Res'])"
   ]
  },
  {
   "cell_type": "code",
   "execution_count": null,
   "metadata": {},
   "outputs": [],
   "source": []
  },
  {
   "cell_type": "markdown",
   "metadata": {},
   "source": [
    "##   Investigate the cumsum relationship in PTRATIO"
   ]
  },
  {
   "cell_type": "code",
   "execution_count": null,
   "metadata": {},
   "outputs": [],
   "source": []
  },
  {
   "cell_type": "code",
   "execution_count": 30,
   "metadata": {},
   "outputs": [],
   "source": [
    "df2['PTRATIO'].value_counts() ##probably could use a group by here- something to try later \n",
    "df3=df2['PTRATIO'].value_counts()\n",
    "df3=pd.DataFrame({'number':df3.index, 'counts':df3}).sort_values(by = 'number')\n",
    "n= len(df2['PTRATIO'])\n",
    "df3['PTR_Percent']= [100* x/n for x in df3['counts']]"
   ]
  },
  {
   "cell_type": "code",
   "execution_count": 31,
   "metadata": {},
   "outputs": [
    {
     "data": {
      "text/html": [
       "<div>\n",
       "<style scoped>\n",
       "    .dataframe tbody tr th:only-of-type {\n",
       "        vertical-align: middle;\n",
       "    }\n",
       "\n",
       "    .dataframe tbody tr th {\n",
       "        vertical-align: top;\n",
       "    }\n",
       "\n",
       "    .dataframe thead th {\n",
       "        text-align: right;\n",
       "    }\n",
       "</style>\n",
       "<table border=\"1\" class=\"dataframe\">\n",
       "  <thead>\n",
       "    <tr style=\"text-align: right;\">\n",
       "      <th></th>\n",
       "      <th>number</th>\n",
       "      <th>counts</th>\n",
       "      <th>PTR_Percent</th>\n",
       "      <th>PTR_CS</th>\n",
       "    </tr>\n",
       "  </thead>\n",
       "  <tbody>\n",
       "    <tr>\n",
       "      <th>12.6</th>\n",
       "      <td>12.6</td>\n",
       "      <td>3</td>\n",
       "      <td>0.612245</td>\n",
       "      <td>0.612245</td>\n",
       "    </tr>\n",
       "    <tr>\n",
       "      <th>13.0</th>\n",
       "      <td>13.0</td>\n",
       "      <td>10</td>\n",
       "      <td>2.040816</td>\n",
       "      <td>2.653061</td>\n",
       "    </tr>\n",
       "    <tr>\n",
       "      <th>14.7</th>\n",
       "      <td>14.7</td>\n",
       "      <td>29</td>\n",
       "      <td>5.918367</td>\n",
       "      <td>8.571429</td>\n",
       "    </tr>\n",
       "    <tr>\n",
       "      <th>14.8</th>\n",
       "      <td>14.8</td>\n",
       "      <td>3</td>\n",
       "      <td>0.612245</td>\n",
       "      <td>9.183673</td>\n",
       "    </tr>\n",
       "    <tr>\n",
       "      <th>14.9</th>\n",
       "      <td>14.9</td>\n",
       "      <td>4</td>\n",
       "      <td>0.816327</td>\n",
       "      <td>10.000000</td>\n",
       "    </tr>\n",
       "    <tr>\n",
       "      <th>15.1</th>\n",
       "      <td>15.1</td>\n",
       "      <td>1</td>\n",
       "      <td>0.204082</td>\n",
       "      <td>10.204082</td>\n",
       "    </tr>\n",
       "    <tr>\n",
       "      <th>15.2</th>\n",
       "      <td>15.2</td>\n",
       "      <td>13</td>\n",
       "      <td>2.653061</td>\n",
       "      <td>12.857143</td>\n",
       "    </tr>\n",
       "    <tr>\n",
       "      <th>15.3</th>\n",
       "      <td>15.3</td>\n",
       "      <td>3</td>\n",
       "      <td>0.612245</td>\n",
       "      <td>13.469388</td>\n",
       "    </tr>\n",
       "    <tr>\n",
       "      <th>15.5</th>\n",
       "      <td>15.5</td>\n",
       "      <td>1</td>\n",
       "      <td>0.204082</td>\n",
       "      <td>13.673469</td>\n",
       "    </tr>\n",
       "    <tr>\n",
       "      <th>15.6</th>\n",
       "      <td>15.6</td>\n",
       "      <td>2</td>\n",
       "      <td>0.408163</td>\n",
       "      <td>14.081633</td>\n",
       "    </tr>\n",
       "    <tr>\n",
       "      <th>15.9</th>\n",
       "      <td>15.9</td>\n",
       "      <td>2</td>\n",
       "      <td>0.408163</td>\n",
       "      <td>14.489796</td>\n",
       "    </tr>\n",
       "    <tr>\n",
       "      <th>16.0</th>\n",
       "      <td>16.0</td>\n",
       "      <td>5</td>\n",
       "      <td>1.020408</td>\n",
       "      <td>15.510204</td>\n",
       "    </tr>\n",
       "    <tr>\n",
       "      <th>16.1</th>\n",
       "      <td>16.1</td>\n",
       "      <td>5</td>\n",
       "      <td>1.020408</td>\n",
       "      <td>16.530612</td>\n",
       "    </tr>\n",
       "    <tr>\n",
       "      <th>16.4</th>\n",
       "      <td>16.4</td>\n",
       "      <td>6</td>\n",
       "      <td>1.224490</td>\n",
       "      <td>17.755102</td>\n",
       "    </tr>\n",
       "    <tr>\n",
       "      <th>16.6</th>\n",
       "      <td>16.6</td>\n",
       "      <td>16</td>\n",
       "      <td>3.265306</td>\n",
       "      <td>21.020408</td>\n",
       "    </tr>\n",
       "    <tr>\n",
       "      <th>16.8</th>\n",
       "      <td>16.8</td>\n",
       "      <td>4</td>\n",
       "      <td>0.816327</td>\n",
       "      <td>21.836735</td>\n",
       "    </tr>\n",
       "    <tr>\n",
       "      <th>16.9</th>\n",
       "      <td>16.9</td>\n",
       "      <td>5</td>\n",
       "      <td>1.020408</td>\n",
       "      <td>22.857143</td>\n",
       "    </tr>\n",
       "    <tr>\n",
       "      <th>17.0</th>\n",
       "      <td>17.0</td>\n",
       "      <td>4</td>\n",
       "      <td>0.816327</td>\n",
       "      <td>23.673469</td>\n",
       "    </tr>\n",
       "    <tr>\n",
       "      <th>17.3</th>\n",
       "      <td>17.3</td>\n",
       "      <td>1</td>\n",
       "      <td>0.204082</td>\n",
       "      <td>23.877551</td>\n",
       "    </tr>\n",
       "    <tr>\n",
       "      <th>17.4</th>\n",
       "      <td>17.4</td>\n",
       "      <td>17</td>\n",
       "      <td>3.469388</td>\n",
       "      <td>27.346939</td>\n",
       "    </tr>\n",
       "    <tr>\n",
       "      <th>17.6</th>\n",
       "      <td>17.6</td>\n",
       "      <td>7</td>\n",
       "      <td>1.428571</td>\n",
       "      <td>28.775510</td>\n",
       "    </tr>\n",
       "    <tr>\n",
       "      <th>17.8</th>\n",
       "      <td>17.8</td>\n",
       "      <td>22</td>\n",
       "      <td>4.489796</td>\n",
       "      <td>33.265306</td>\n",
       "    </tr>\n",
       "    <tr>\n",
       "      <th>17.9</th>\n",
       "      <td>17.9</td>\n",
       "      <td>11</td>\n",
       "      <td>2.244898</td>\n",
       "      <td>35.510204</td>\n",
       "    </tr>\n",
       "    <tr>\n",
       "      <th>18.0</th>\n",
       "      <td>18.0</td>\n",
       "      <td>5</td>\n",
       "      <td>1.020408</td>\n",
       "      <td>36.530612</td>\n",
       "    </tr>\n",
       "    <tr>\n",
       "      <th>18.2</th>\n",
       "      <td>18.2</td>\n",
       "      <td>4</td>\n",
       "      <td>0.816327</td>\n",
       "      <td>37.346939</td>\n",
       "    </tr>\n",
       "    <tr>\n",
       "      <th>18.3</th>\n",
       "      <td>18.3</td>\n",
       "      <td>4</td>\n",
       "      <td>0.816327</td>\n",
       "      <td>38.163265</td>\n",
       "    </tr>\n",
       "    <tr>\n",
       "      <th>18.4</th>\n",
       "      <td>18.4</td>\n",
       "      <td>16</td>\n",
       "      <td>3.265306</td>\n",
       "      <td>41.428571</td>\n",
       "    </tr>\n",
       "    <tr>\n",
       "      <th>18.5</th>\n",
       "      <td>18.5</td>\n",
       "      <td>4</td>\n",
       "      <td>0.816327</td>\n",
       "      <td>42.244898</td>\n",
       "    </tr>\n",
       "    <tr>\n",
       "      <th>18.6</th>\n",
       "      <td>18.6</td>\n",
       "      <td>17</td>\n",
       "      <td>3.469388</td>\n",
       "      <td>45.714286</td>\n",
       "    </tr>\n",
       "    <tr>\n",
       "      <th>18.7</th>\n",
       "      <td>18.7</td>\n",
       "      <td>9</td>\n",
       "      <td>1.836735</td>\n",
       "      <td>47.551020</td>\n",
       "    </tr>\n",
       "    <tr>\n",
       "      <th>18.8</th>\n",
       "      <td>18.8</td>\n",
       "      <td>2</td>\n",
       "      <td>0.408163</td>\n",
       "      <td>47.959184</td>\n",
       "    </tr>\n",
       "    <tr>\n",
       "      <th>18.9</th>\n",
       "      <td>18.9</td>\n",
       "      <td>3</td>\n",
       "      <td>0.612245</td>\n",
       "      <td>48.571429</td>\n",
       "    </tr>\n",
       "    <tr>\n",
       "      <th>19.0</th>\n",
       "      <td>19.0</td>\n",
       "      <td>4</td>\n",
       "      <td>0.816327</td>\n",
       "      <td>49.387755</td>\n",
       "    </tr>\n",
       "    <tr>\n",
       "      <th>19.1</th>\n",
       "      <td>19.1</td>\n",
       "      <td>17</td>\n",
       "      <td>3.469388</td>\n",
       "      <td>52.857143</td>\n",
       "    </tr>\n",
       "    <tr>\n",
       "      <th>19.2</th>\n",
       "      <td>19.2</td>\n",
       "      <td>19</td>\n",
       "      <td>3.877551</td>\n",
       "      <td>56.734694</td>\n",
       "    </tr>\n",
       "    <tr>\n",
       "      <th>19.6</th>\n",
       "      <td>19.6</td>\n",
       "      <td>8</td>\n",
       "      <td>1.632653</td>\n",
       "      <td>58.367347</td>\n",
       "    </tr>\n",
       "    <tr>\n",
       "      <th>19.7</th>\n",
       "      <td>19.7</td>\n",
       "      <td>8</td>\n",
       "      <td>1.632653</td>\n",
       "      <td>60.000000</td>\n",
       "    </tr>\n",
       "    <tr>\n",
       "      <th>20.1</th>\n",
       "      <td>20.1</td>\n",
       "      <td>5</td>\n",
       "      <td>1.020408</td>\n",
       "      <td>61.020408</td>\n",
       "    </tr>\n",
       "    <tr>\n",
       "      <th>20.2</th>\n",
       "      <td>20.2</td>\n",
       "      <td>135</td>\n",
       "      <td>27.551020</td>\n",
       "      <td>88.571429</td>\n",
       "    </tr>\n",
       "    <tr>\n",
       "      <th>20.9</th>\n",
       "      <td>20.9</td>\n",
       "      <td>11</td>\n",
       "      <td>2.244898</td>\n",
       "      <td>90.816327</td>\n",
       "    </tr>\n",
       "    <tr>\n",
       "      <th>21.0</th>\n",
       "      <td>21.0</td>\n",
       "      <td>27</td>\n",
       "      <td>5.510204</td>\n",
       "      <td>96.326531</td>\n",
       "    </tr>\n",
       "    <tr>\n",
       "      <th>21.1</th>\n",
       "      <td>21.1</td>\n",
       "      <td>1</td>\n",
       "      <td>0.204082</td>\n",
       "      <td>96.530612</td>\n",
       "    </tr>\n",
       "    <tr>\n",
       "      <th>21.2</th>\n",
       "      <td>21.2</td>\n",
       "      <td>15</td>\n",
       "      <td>3.061224</td>\n",
       "      <td>99.591837</td>\n",
       "    </tr>\n",
       "    <tr>\n",
       "      <th>22.0</th>\n",
       "      <td>22.0</td>\n",
       "      <td>2</td>\n",
       "      <td>0.408163</td>\n",
       "      <td>100.000000</td>\n",
       "    </tr>\n",
       "  </tbody>\n",
       "</table>\n",
       "</div>"
      ],
      "text/plain": [
       "      number  counts  PTR_Percent      PTR_CS\n",
       "12.6    12.6       3     0.612245    0.612245\n",
       "13.0    13.0      10     2.040816    2.653061\n",
       "14.7    14.7      29     5.918367    8.571429\n",
       "14.8    14.8       3     0.612245    9.183673\n",
       "14.9    14.9       4     0.816327   10.000000\n",
       "15.1    15.1       1     0.204082   10.204082\n",
       "15.2    15.2      13     2.653061   12.857143\n",
       "15.3    15.3       3     0.612245   13.469388\n",
       "15.5    15.5       1     0.204082   13.673469\n",
       "15.6    15.6       2     0.408163   14.081633\n",
       "15.9    15.9       2     0.408163   14.489796\n",
       "16.0    16.0       5     1.020408   15.510204\n",
       "16.1    16.1       5     1.020408   16.530612\n",
       "16.4    16.4       6     1.224490   17.755102\n",
       "16.6    16.6      16     3.265306   21.020408\n",
       "16.8    16.8       4     0.816327   21.836735\n",
       "16.9    16.9       5     1.020408   22.857143\n",
       "17.0    17.0       4     0.816327   23.673469\n",
       "17.3    17.3       1     0.204082   23.877551\n",
       "17.4    17.4      17     3.469388   27.346939\n",
       "17.6    17.6       7     1.428571   28.775510\n",
       "17.8    17.8      22     4.489796   33.265306\n",
       "17.9    17.9      11     2.244898   35.510204\n",
       "18.0    18.0       5     1.020408   36.530612\n",
       "18.2    18.2       4     0.816327   37.346939\n",
       "18.3    18.3       4     0.816327   38.163265\n",
       "18.4    18.4      16     3.265306   41.428571\n",
       "18.5    18.5       4     0.816327   42.244898\n",
       "18.6    18.6      17     3.469388   45.714286\n",
       "18.7    18.7       9     1.836735   47.551020\n",
       "18.8    18.8       2     0.408163   47.959184\n",
       "18.9    18.9       3     0.612245   48.571429\n",
       "19.0    19.0       4     0.816327   49.387755\n",
       "19.1    19.1      17     3.469388   52.857143\n",
       "19.2    19.2      19     3.877551   56.734694\n",
       "19.6    19.6       8     1.632653   58.367347\n",
       "19.7    19.7       8     1.632653   60.000000\n",
       "20.1    20.1       5     1.020408   61.020408\n",
       "20.2    20.2     135    27.551020   88.571429\n",
       "20.9    20.9      11     2.244898   90.816327\n",
       "21.0    21.0      27     5.510204   96.326531\n",
       "21.1    21.1       1     0.204082   96.530612\n",
       "21.2    21.2      15     3.061224   99.591837\n",
       "22.0    22.0       2     0.408163  100.000000"
      ]
     },
     "execution_count": 31,
     "metadata": {},
     "output_type": "execute_result"
    }
   ],
   "source": [
    "df3['PTR_CS']= df3['PTR_Percent'].cumsum()\n",
    "df3"
   ]
  },
  {
   "cell_type": "code",
   "execution_count": 32,
   "metadata": {},
   "outputs": [
    {
     "data": {
      "text/plain": [
       "Text(0, 0.5, 'Cumulative Percentage')"
      ]
     },
     "execution_count": 32,
     "metadata": {},
     "output_type": "execute_result"
    },
    {
     "data": {
      "image/png": "[encoded data removed]",
      "text/plain": [
       "<Figure size 432x288 with 1 Axes>"
      ]
     },
     "metadata": {
      "needs_background": "light"
     },
     "output_type": "display_data"
    }
   ],
   "source": [
    "plt.plot(df3['PTR_CS'])\n",
    "plt.title (\"Cumulative Percentage plot PTRATIO\")\n",
    "plt.xlabel(\"PTRATIO\")\n",
    "plt.ylabel(\"Cumulative Percentage\")"
   ]
  },
  {
   "cell_type": "markdown",
   "metadata": {},
   "source": [
    "# <font color = 'red'> Question #2\n",
    " ## start by exploring the CHAS 0 and 1 counts and filtering the distribution.    "
   ]
  },
  {
   "cell_type": "code",
   "execution_count": 33,
   "metadata": {},
   "outputs": [
    {
     "data": {
      "text/plain": [
       "0.0    461\n",
       "1.0     29\n",
       "Name: CHAS, dtype: int64"
      ]
     },
     "execution_count": 33,
     "metadata": {},
     "output_type": "execute_result"
    }
   ],
   "source": [
    "df2['CHAS'].value_counts()"
   ]
  },
  {
   "cell_type": "code",
   "execution_count": 34,
   "metadata": {},
   "outputs": [],
   "source": [
    "df5=df2[['CHAS','MEDV']]\n",
    "df6=df5.copy()"
   ]
  },
  {
   "cell_type": "code",
   "execution_count": null,
   "metadata": {},
   "outputs": [],
   "source": []
  },
  {
   "cell_type": "code",
   "execution_count": 35,
   "metadata": {},
   "outputs": [
    {
     "name": "stderr",
     "output_type": "stream",
     "text": [
      "C:\\ProgramData\\Anaconda3\\lib\\site-packages\\pandas\\core\\frame.py:3997: SettingWithCopyWarning: \n",
      "A value is trying to be set on a copy of a slice from a DataFrame\n",
      "\n",
      "See the caveats in the documentation: https://pandas.pydata.org/pandas-docs/stable/user_guide/indexing.html#returning-a-view-versus-a-copy\n",
      "  errors=errors,\n"
     ]
    },
    {
     "data": {
      "text/plain": [
       "(29, 2)"
      ]
     },
     "execution_count": 35,
     "metadata": {},
     "output_type": "execute_result"
    }
   ],
   "source": [
    "CHASIndex = df5[df5['CHAS']==0].index\n",
    "df5.drop(CHASIndex, inplace=True)\n",
    "df5.shape"
   ]
  },
  {
   "cell_type": "code",
   "execution_count": 36,
   "metadata": {},
   "outputs": [
    {
     "data": {
      "text/html": [
       "<div>\n",
       "<style scoped>\n",
       "    .dataframe tbody tr th:only-of-type {\n",
       "        vertical-align: middle;\n",
       "    }\n",
       "\n",
       "    .dataframe tbody tr th {\n",
       "        vertical-align: top;\n",
       "    }\n",
       "\n",
       "    .dataframe thead th {\n",
       "        text-align: right;\n",
       "    }\n",
       "</style>\n",
       "<table border=\"1\" class=\"dataframe\">\n",
       "  <thead>\n",
       "    <tr style=\"text-align: right;\">\n",
       "      <th></th>\n",
       "      <th>CHAS</th>\n",
       "      <th>MEDV</th>\n",
       "    </tr>\n",
       "  </thead>\n",
       "  <tbody>\n",
       "    <tr>\n",
       "      <th>count</th>\n",
       "      <td>29.0</td>\n",
       "      <td>29.000000</td>\n",
       "    </tr>\n",
       "    <tr>\n",
       "      <th>mean</th>\n",
       "      <td>1.0</td>\n",
       "      <td>23.979310</td>\n",
       "    </tr>\n",
       "    <tr>\n",
       "      <th>std</th>\n",
       "      <td>0.0</td>\n",
       "      <td>7.024161</td>\n",
       "    </tr>\n",
       "    <tr>\n",
       "      <th>min</th>\n",
       "      <td>1.0</td>\n",
       "      <td>13.400000</td>\n",
       "    </tr>\n",
       "    <tr>\n",
       "      <th>25%</th>\n",
       "      <td>1.0</td>\n",
       "      <td>20.000000</td>\n",
       "    </tr>\n",
       "    <tr>\n",
       "      <th>50%</th>\n",
       "      <td>1.0</td>\n",
       "      <td>22.400000</td>\n",
       "    </tr>\n",
       "    <tr>\n",
       "      <th>75%</th>\n",
       "      <td>1.0</td>\n",
       "      <td>27.000000</td>\n",
       "    </tr>\n",
       "    <tr>\n",
       "      <th>max</th>\n",
       "      <td>1.0</td>\n",
       "      <td>46.000000</td>\n",
       "    </tr>\n",
       "  </tbody>\n",
       "</table>\n",
       "</div>"
      ],
      "text/plain": [
       "       CHAS       MEDV\n",
       "count  29.0  29.000000\n",
       "mean    1.0  23.979310\n",
       "std     0.0   7.024161\n",
       "min     1.0  13.400000\n",
       "25%     1.0  20.000000\n",
       "50%     1.0  22.400000\n",
       "75%     1.0  27.000000\n",
       "max     1.0  46.000000"
      ]
     },
     "execution_count": 36,
     "metadata": {},
     "output_type": "execute_result"
    }
   ],
   "source": [
    "df5.describe()\n"
   ]
  },
  {
   "cell_type": "code",
   "execution_count": 37,
   "metadata": {
    "scrolled": true
   },
   "outputs": [
    {
     "data": {
      "text/plain": [
       "(461, 2)"
      ]
     },
     "execution_count": 37,
     "metadata": {},
     "output_type": "execute_result"
    }
   ],
   "source": [
    "Not_CHASIndex = df6[df6['CHAS']==1].index\n",
    "df6.drop(Not_CHASIndex, inplace=True)\n",
    "df6.shape"
   ]
  },
  {
   "cell_type": "code",
   "execution_count": 38,
   "metadata": {},
   "outputs": [
    {
     "data": {
      "text/html": [
       "<div>\n",
       "<style scoped>\n",
       "    .dataframe tbody tr th:only-of-type {\n",
       "        vertical-align: middle;\n",
       "    }\n",
       "\n",
       "    .dataframe tbody tr th {\n",
       "        vertical-align: top;\n",
       "    }\n",
       "\n",
       "    .dataframe thead th {\n",
       "        text-align: right;\n",
       "    }\n",
       "</style>\n",
       "<table border=\"1\" class=\"dataframe\">\n",
       "  <thead>\n",
       "    <tr style=\"text-align: right;\">\n",
       "      <th></th>\n",
       "      <th>CHAS</th>\n",
       "      <th>MEDV</th>\n",
       "    </tr>\n",
       "  </thead>\n",
       "  <tbody>\n",
       "    <tr>\n",
       "      <th>count</th>\n",
       "      <td>461.0</td>\n",
       "      <td>461.000000</td>\n",
       "    </tr>\n",
       "    <tr>\n",
       "      <th>mean</th>\n",
       "      <td>0.0</td>\n",
       "      <td>21.488503</td>\n",
       "    </tr>\n",
       "    <tr>\n",
       "      <th>std</th>\n",
       "      <td>0.0</td>\n",
       "      <td>7.898848</td>\n",
       "    </tr>\n",
       "    <tr>\n",
       "      <th>min</th>\n",
       "      <td>0.0</td>\n",
       "      <td>5.000000</td>\n",
       "    </tr>\n",
       "    <tr>\n",
       "      <th>25%</th>\n",
       "      <td>0.0</td>\n",
       "      <td>16.500000</td>\n",
       "    </tr>\n",
       "    <tr>\n",
       "      <th>50%</th>\n",
       "      <td>0.0</td>\n",
       "      <td>20.600000</td>\n",
       "    </tr>\n",
       "    <tr>\n",
       "      <th>75%</th>\n",
       "      <td>0.0</td>\n",
       "      <td>24.500000</td>\n",
       "    </tr>\n",
       "    <tr>\n",
       "      <th>max</th>\n",
       "      <td>0.0</td>\n",
       "      <td>48.800000</td>\n",
       "    </tr>\n",
       "  </tbody>\n",
       "</table>\n",
       "</div>"
      ],
      "text/plain": [
       "        CHAS        MEDV\n",
       "count  461.0  461.000000\n",
       "mean     0.0   21.488503\n",
       "std      0.0    7.898848\n",
       "min      0.0    5.000000\n",
       "25%      0.0   16.500000\n",
       "50%      0.0   20.600000\n",
       "75%      0.0   24.500000\n",
       "max      0.0   48.800000"
      ]
     },
     "execution_count": 38,
     "metadata": {},
     "output_type": "execute_result"
    }
   ],
   "source": [
    "df6.describe()"
   ]
  },
  {
   "cell_type": "code",
   "execution_count": 39,
   "metadata": {},
   "outputs": [
    {
     "data": {
      "text/plain": [
       "<matplotlib.axes._subplots.AxesSubplot at 0x1febf3afb08>"
      ]
     },
     "execution_count": 39,
     "metadata": {},
     "output_type": "execute_result"
    },
    {
     "data": {
      "image/png": "[encoded data removed]",
      "text/plain": [
       "<Figure size 432x288 with 1 Axes>"
      ]
     },
     "metadata": {
      "needs_background": "light"
     },
     "output_type": "display_data"
    }
   ],
   "source": [
    "sns.distplot(df5['MEDV'])"
   ]
  },
  {
   "cell_type": "code",
   "execution_count": 40,
   "metadata": {},
   "outputs": [
    {
     "data": {
      "text/plain": [
       "<matplotlib.axes._subplots.AxesSubplot at 0x1febb9b9988>"
      ]
     },
     "execution_count": 40,
     "metadata": {},
     "output_type": "execute_result"
    },
    {
     "data": {
      "image/png": "[encoded data removed]",
      "text/plain": [
       "<Figure size 432x288 with 1 Axes>"
      ]
     },
     "metadata": {
      "needs_background": "light"
     },
     "output_type": "display_data"
    }
   ],
   "source": [
    "sns.distplot(df6['MEDV'])"
   ]
  },
  {
   "cell_type": "code",
   "execution_count": 41,
   "metadata": {},
   "outputs": [
    {
     "data": {
      "text/plain": [
       "21.488503253796125"
      ]
     },
     "execution_count": 41,
     "metadata": {},
     "output_type": "execute_result"
    }
   ],
   "source": [
    "df6['MEDV'].mean() # this is the value of the H0:  "
   ]
  },
  {
   "cell_type": "code",
   "execution_count": 42,
   "metadata": {},
   "outputs": [],
   "source": [
    "T_array=df5['MEDV']"
   ]
  },
  {
   "cell_type": "code",
   "execution_count": 43,
   "metadata": {},
   "outputs": [
    {
     "ename": "NameError",
     "evalue": "name 'stats' is not defined",
     "output_type": "error",
     "traceback": [
      "\u001b[1;31m---------------------------------------------------------------------------\u001b[0m",
      "\u001b[1;31mNameError\u001b[0m                                 Traceback (most recent call last)",
      "\u001b[1;32m<ipython-input-43-645c3503ff3b>\u001b[0m in \u001b[0;36m<module>\u001b[1;34m\u001b[0m\n\u001b[1;32m----> 1\u001b[1;33m \u001b[0mstats\u001b[0m\u001b[1;33m.\u001b[0m\u001b[0mttest_1samp\u001b[0m\u001b[1;33m(\u001b[0m\u001b[0mT_array\u001b[0m\u001b[1;33m,\u001b[0m\u001b[1;36m21.48\u001b[0m\u001b[1;33m)\u001b[0m\u001b[1;33m\u001b[0m\u001b[1;33m\u001b[0m\u001b[0m\n\u001b[0m",
      "\u001b[1;31mNameError\u001b[0m: name 'stats' is not defined"
     ]
    }
   ],
   "source": [
    "stats.ttest_1samp(T_array,21.48)"
   ]
  },
  {
   "cell_type": "code",
   "execution_count": 44,
   "metadata": {},
   "outputs": [
    {
     "name": "stdout",
     "output_type": "stream",
     "text": [
      "P-value one tail test is 0.03280474\n"
     ]
    }
   ],
   "source": [
    "#p-Value for a one tailed test\n",
    "pvalue_1T= 0.06560948/2\n",
    "print('P-value one tail test is', pvalue_1T)"
   ]
  },
  {
   "cell_type": "code",
   "execution_count": 45,
   "metadata": {},
   "outputs": [
    {
     "data": {
      "text/plain": [
       "Ttest_1sampResult(statistic=array([2.2841271]), pvalue=array([0.03014924]))"
      ]
     },
     "execution_count": 45,
     "metadata": {},
     "output_type": "execute_result"
    }
   ],
   "source": [
    "from scipy import stats\n",
    "stats.ttest_1samp(T_array,[21])"
   ]
  },
  {
   "cell_type": "code",
   "execution_count": 46,
   "metadata": {},
   "outputs": [
    {
     "data": {
      "text/plain": [
       "Ttest_1sampResult(statistic=1.9161288418938323, pvalue=0.06560948455970432)"
      ]
     },
     "execution_count": 46,
     "metadata": {},
     "output_type": "execute_result"
    }
   ],
   "source": [
    "stats.ttest_1samp(df5['MEDV'],21.48)"
   ]
  },
  {
   "cell_type": "code",
   "execution_count": 47,
   "metadata": {},
   "outputs": [
    {
     "data": {
      "text/plain": [
       "0.03280474227985216"
      ]
     },
     "execution_count": 47,
     "metadata": {},
     "output_type": "execute_result"
    }
   ],
   "source": [
    "pv2=0.06560948455970432/2\n",
    "pv2"
   ]
  },
  {
   "cell_type": "code",
   "execution_count": null,
   "metadata": {},
   "outputs": [],
   "source": []
  },
  {
   "cell_type": "code",
   "execution_count": 48,
   "metadata": {},
   "outputs": [
    {
     "name": "stdout",
     "output_type": "stream",
     "text": [
      "The standard error = 1.3043540132496296\n",
      "A 90% CI of Median value for tracks adjecent to the Charles River is 21.76 < 23.98 < 26.2 :or from 21.76 to 26.2\n"
     ]
    }
   ],
   "source": [
    "from scipy.stats import sem, t\n",
    "con=.90\n",
    "n=len(df5)\n",
    "m=df5['MEDV'].mean()\n",
    "std_err=sem(df5['MEDV'])\n",
    "h=std_err*t.ppf((1+con)/2,n-1)\n",
    "upper= m+h\n",
    "lower= m-h\n",
    "print('The standard error =', std_err)\n",
    "print('A 90% CI of Median value for tracks adjecent to the Charles River is',\n",
    "      round(lower,2) ,'<', round(m,2), '<', round(upper,2), ':or from 21.76 to 26.2')\n"
   ]
  },
  {
   "cell_type": "markdown",
   "metadata": {},
   "source": [
    "##  <font color = 'blue'> Solve for sample size based on the assumption of a 0.60 Cohen's d and .80 power:"
   ]
  },
  {
   "cell_type": "code",
   "execution_count": 49,
   "metadata": {},
   "outputs": [
    {
     "data": {
      "text/plain": [
       "44.5857902590805"
      ]
     },
     "execution_count": 49,
     "metadata": {},
     "output_type": "execute_result"
    }
   ],
   "source": [
    "#Cohen's d question\n",
    "from statsmodels.stats.power import tt_ind_solve_power\n",
    "tt_ind_solve_power(effect_size=.6, nobs1 = None, alpha=0.05, power=.8, ratio=1, alternative='two-sided')"
   ]
  },
  {
   "cell_type": "code",
   "execution_count": 50,
   "metadata": {},
   "outputs": [
    {
     "data": {
      "text/html": [
       "<div>\n",
       "<style scoped>\n",
       "    .dataframe tbody tr th:only-of-type {\n",
       "        vertical-align: middle;\n",
       "    }\n",
       "\n",
       "    .dataframe tbody tr th {\n",
       "        vertical-align: top;\n",
       "    }\n",
       "\n",
       "    .dataframe thead th {\n",
       "        text-align: right;\n",
       "    }\n",
       "</style>\n",
       "<table border=\"1\" class=\"dataframe\">\n",
       "  <thead>\n",
       "    <tr style=\"text-align: right;\">\n",
       "      <th></th>\n",
       "      <th>sample_size</th>\n",
       "      <th>d = 0.2</th>\n",
       "      <th>d = 0.3</th>\n",
       "      <th>d = 0.4</th>\n",
       "      <th>d = 0.5</th>\n",
       "      <th>d = 0.6</th>\n",
       "      <th>d = 0.7</th>\n",
       "      <th>d = 0.8</th>\n",
       "      <th>d = 0.9</th>\n",
       "      <th>d = 1.0</th>\n",
       "      <th>d = 1.1</th>\n",
       "      <th>d = 1.2</th>\n",
       "      <th>d = 1.3</th>\n",
       "      <th>d = 1.4</th>\n",
       "      <th>d = 1.5</th>\n",
       "      <th>d = 1.6</th>\n",
       "      <th>d = 1.7</th>\n",
       "      <th>d = 1.8</th>\n",
       "      <th>d = 1.9</th>\n",
       "    </tr>\n",
       "  </thead>\n",
       "  <tbody>\n",
       "    <tr>\n",
       "      <th>0</th>\n",
       "      <td>20</td>\n",
       "      <td>0.094567</td>\n",
       "      <td>0.152268</td>\n",
       "      <td>0.234349</td>\n",
       "      <td>0.337939</td>\n",
       "      <td>0.456034</td>\n",
       "      <td>0.578290</td>\n",
       "      <td>0.693404</td>\n",
       "      <td>0.792036</td>\n",
       "      <td>0.868953</td>\n",
       "      <td>0.923550</td>\n",
       "      <td>0.958827</td>\n",
       "      <td>0.979575</td>\n",
       "      <td>0.990685</td>\n",
       "      <td>0.996100</td>\n",
       "      <td>0.998503</td>\n",
       "      <td>0.999473</td>\n",
       "      <td>0.999831</td>\n",
       "      <td>0.99995</td>\n",
       "    </tr>\n",
       "    <tr>\n",
       "      <th>1</th>\n",
       "      <td>30</td>\n",
       "      <td>0.118679</td>\n",
       "      <td>0.207852</td>\n",
       "      <td>0.331522</td>\n",
       "      <td>0.477897</td>\n",
       "      <td>0.627505</td>\n",
       "      <td>0.759905</td>\n",
       "      <td>0.861423</td>\n",
       "      <td>0.928872</td>\n",
       "      <td>0.967708</td>\n",
       "      <td>0.987086</td>\n",
       "      <td>0.995465</td>\n",
       "      <td>0.998605</td>\n",
       "      <td>0.999625</td>\n",
       "      <td>0.999912</td>\n",
       "      <td>1.000000</td>\n",
       "      <td>1.000000</td>\n",
       "      <td>1.000000</td>\n",
       "      <td>1.00000</td>\n",
       "    </tr>\n",
       "    <tr>\n",
       "      <th>2</th>\n",
       "      <td>40</td>\n",
       "      <td>0.143080</td>\n",
       "      <td>0.263284</td>\n",
       "      <td>0.423521</td>\n",
       "      <td>0.598147</td>\n",
       "      <td>0.754952</td>\n",
       "      <td>0.871133</td>\n",
       "      <td>0.942182</td>\n",
       "      <td>0.978044</td>\n",
       "      <td>0.992985</td>\n",
       "      <td>0.998122</td>\n",
       "      <td>0.999580</td>\n",
       "      <td>0.999922</td>\n",
       "      <td>1.000000</td>\n",
       "      <td>1.000000</td>\n",
       "      <td>1.000000</td>\n",
       "      <td>1.000000</td>\n",
       "      <td>1.000000</td>\n",
       "      <td>1.00000</td>\n",
       "    </tr>\n",
       "    <tr>\n",
       "      <th>3</th>\n",
       "      <td>50</td>\n",
       "      <td>0.167675</td>\n",
       "      <td>0.317802</td>\n",
       "      <td>0.508186</td>\n",
       "      <td>0.696893</td>\n",
       "      <td>0.843875</td>\n",
       "      <td>0.933907</td>\n",
       "      <td>0.977279</td>\n",
       "      <td>0.993712</td>\n",
       "      <td>0.998607</td>\n",
       "      <td>0.999754</td>\n",
       "      <td>1.000000</td>\n",
       "      <td>1.000000</td>\n",
       "      <td>1.000000</td>\n",
       "      <td>1.000000</td>\n",
       "      <td>1.000000</td>\n",
       "      <td>1.000000</td>\n",
       "      <td>1.000000</td>\n",
       "      <td>1.00000</td>\n",
       "    </tr>\n",
       "    <tr>\n",
       "      <th>4</th>\n",
       "      <td>60</td>\n",
       "      <td>0.192375</td>\n",
       "      <td>0.370802</td>\n",
       "      <td>0.584382</td>\n",
       "      <td>0.775266</td>\n",
       "      <td>0.903115</td>\n",
       "      <td>0.967314</td>\n",
       "      <td>0.991481</td>\n",
       "      <td>0.998300</td>\n",
       "      <td>0.999742</td>\n",
       "      <td>1.000000</td>\n",
       "      <td>1.000000</td>\n",
       "      <td>1.000000</td>\n",
       "      <td>1.000000</td>\n",
       "      <td>1.000000</td>\n",
       "      <td>1.000000</td>\n",
       "      <td>1.000000</td>\n",
       "      <td>1.000000</td>\n",
       "      <td>1.00000</td>\n",
       "    </tr>\n",
       "    <tr>\n",
       "      <th>5</th>\n",
       "      <td>70</td>\n",
       "      <td>0.217094</td>\n",
       "      <td>0.421819</td>\n",
       "      <td>0.651730</td>\n",
       "      <td>0.835822</td>\n",
       "      <td>0.941194</td>\n",
       "      <td>0.984313</td>\n",
       "      <td>0.996925</td>\n",
       "      <td>0.999561</td>\n",
       "      <td>1.000000</td>\n",
       "      <td>1.000000</td>\n",
       "      <td>1.000000</td>\n",
       "      <td>1.000000</td>\n",
       "      <td>1.000000</td>\n",
       "      <td>1.000000</td>\n",
       "      <td>1.000000</td>\n",
       "      <td>1.000000</td>\n",
       "      <td>1.000000</td>\n",
       "      <td>1.00000</td>\n",
       "    </tr>\n",
       "    <tr>\n",
       "      <th>6</th>\n",
       "      <td>80</td>\n",
       "      <td>0.241758</td>\n",
       "      <td>0.470512</td>\n",
       "      <td>0.710370</td>\n",
       "      <td>0.881602</td>\n",
       "      <td>0.964976</td>\n",
       "      <td>0.992660</td>\n",
       "      <td>0.998925</td>\n",
       "      <td>0.999891</td>\n",
       "      <td>1.000000</td>\n",
       "      <td>1.000000</td>\n",
       "      <td>1.000000</td>\n",
       "      <td>1.000000</td>\n",
       "      <td>1.000000</td>\n",
       "      <td>1.000000</td>\n",
       "      <td>1.000000</td>\n",
       "      <td>1.000000</td>\n",
       "      <td>1.000000</td>\n",
       "      <td>1.00000</td>\n",
       "    </tr>\n",
       "    <tr>\n",
       "      <th>7</th>\n",
       "      <td>90</td>\n",
       "      <td>0.266296</td>\n",
       "      <td>0.516642</td>\n",
       "      <td>0.760782</td>\n",
       "      <td>0.915587</td>\n",
       "      <td>0.979481</td>\n",
       "      <td>0.996639</td>\n",
       "      <td>0.999634</td>\n",
       "      <td>1.000000</td>\n",
       "      <td>1.000000</td>\n",
       "      <td>1.000000</td>\n",
       "      <td>1.000000</td>\n",
       "      <td>1.000000</td>\n",
       "      <td>1.000000</td>\n",
       "      <td>1.000000</td>\n",
       "      <td>1.000000</td>\n",
       "      <td>1.000000</td>\n",
       "      <td>1.000000</td>\n",
       "      <td>1.00000</td>\n",
       "    </tr>\n",
       "    <tr>\n",
       "      <th>8</th>\n",
       "      <td>100</td>\n",
       "      <td>0.290646</td>\n",
       "      <td>0.560059</td>\n",
       "      <td>0.803647</td>\n",
       "      <td>0.940427</td>\n",
       "      <td>0.988152</td>\n",
       "      <td>0.998490</td>\n",
       "      <td>0.999878</td>\n",
       "      <td>1.000000</td>\n",
       "      <td>1.000000</td>\n",
       "      <td>1.000000</td>\n",
       "      <td>1.000000</td>\n",
       "      <td>1.000000</td>\n",
       "      <td>1.000000</td>\n",
       "      <td>1.000000</td>\n",
       "      <td>1.000000</td>\n",
       "      <td>1.000000</td>\n",
       "      <td>1.000000</td>\n",
       "      <td>1.00000</td>\n",
       "    </tr>\n",
       "    <tr>\n",
       "      <th>9</th>\n",
       "      <td>110</td>\n",
       "      <td>0.314751</td>\n",
       "      <td>0.600687</td>\n",
       "      <td>0.839748</td>\n",
       "      <td>0.958341</td>\n",
       "      <td>0.993246</td>\n",
       "      <td>0.999333</td>\n",
       "      <td>1.000000</td>\n",
       "      <td>1.000000</td>\n",
       "      <td>1.000000</td>\n",
       "      <td>1.000000</td>\n",
       "      <td>1.000000</td>\n",
       "      <td>1.000000</td>\n",
       "      <td>1.000000</td>\n",
       "      <td>1.000000</td>\n",
       "      <td>1.000000</td>\n",
       "      <td>1.000000</td>\n",
       "      <td>1.000000</td>\n",
       "      <td>1.00000</td>\n",
       "    </tr>\n",
       "    <tr>\n",
       "      <th>10</th>\n",
       "      <td>120</td>\n",
       "      <td>0.338562</td>\n",
       "      <td>0.638505</td>\n",
       "      <td>0.869896</td>\n",
       "      <td>0.971109</td>\n",
       "      <td>0.996194</td>\n",
       "      <td>0.999709</td>\n",
       "      <td>1.000000</td>\n",
       "      <td>1.000000</td>\n",
       "      <td>1.000000</td>\n",
       "      <td>1.000000</td>\n",
       "      <td>1.000000</td>\n",
       "      <td>1.000000</td>\n",
       "      <td>1.000000</td>\n",
       "      <td>1.000000</td>\n",
       "      <td>1.000000</td>\n",
       "      <td>1.000000</td>\n",
       "      <td>1.000000</td>\n",
       "      <td>1.00000</td>\n",
       "    </tr>\n",
       "    <tr>\n",
       "      <th>11</th>\n",
       "      <td>130</td>\n",
       "      <td>0.362033</td>\n",
       "      <td>0.673544</td>\n",
       "      <td>0.894881</td>\n",
       "      <td>0.980114</td>\n",
       "      <td>0.997877</td>\n",
       "      <td>0.999875</td>\n",
       "      <td>1.000000</td>\n",
       "      <td>1.000000</td>\n",
       "      <td>1.000000</td>\n",
       "      <td>1.000000</td>\n",
       "      <td>1.000000</td>\n",
       "      <td>1.000000</td>\n",
       "      <td>1.000000</td>\n",
       "      <td>1.000000</td>\n",
       "      <td>1.000000</td>\n",
       "      <td>1.000000</td>\n",
       "      <td>1.000000</td>\n",
       "      <td>1.00000</td>\n",
       "    </tr>\n",
       "    <tr>\n",
       "      <th>12</th>\n",
       "      <td>140</td>\n",
       "      <td>0.385124</td>\n",
       "      <td>0.705866</td>\n",
       "      <td>0.915449</td>\n",
       "      <td>0.986407</td>\n",
       "      <td>0.998827</td>\n",
       "      <td>1.000000</td>\n",
       "      <td>1.000000</td>\n",
       "      <td>1.000000</td>\n",
       "      <td>1.000000</td>\n",
       "      <td>1.000000</td>\n",
       "      <td>1.000000</td>\n",
       "      <td>1.000000</td>\n",
       "      <td>1.000000</td>\n",
       "      <td>1.000000</td>\n",
       "      <td>1.000000</td>\n",
       "      <td>1.000000</td>\n",
       "      <td>1.000000</td>\n",
       "      <td>1.00000</td>\n",
       "    </tr>\n",
       "    <tr>\n",
       "      <th>13</th>\n",
       "      <td>150</td>\n",
       "      <td>0.407802</td>\n",
       "      <td>0.735567</td>\n",
       "      <td>0.932275</td>\n",
       "      <td>0.990768</td>\n",
       "      <td>0.999358</td>\n",
       "      <td>1.000000</td>\n",
       "      <td>1.000000</td>\n",
       "      <td>1.000000</td>\n",
       "      <td>1.000000</td>\n",
       "      <td>1.000000</td>\n",
       "      <td>1.000000</td>\n",
       "      <td>1.000000</td>\n",
       "      <td>1.000000</td>\n",
       "      <td>1.000000</td>\n",
       "      <td>1.000000</td>\n",
       "      <td>1.000000</td>\n",
       "      <td>1.000000</td>\n",
       "      <td>1.00000</td>\n",
       "    </tr>\n",
       "    <tr>\n",
       "      <th>14</th>\n",
       "      <td>160</td>\n",
       "      <td>0.430036</td>\n",
       "      <td>0.762761</td>\n",
       "      <td>0.945964</td>\n",
       "      <td>0.993766</td>\n",
       "      <td>0.999651</td>\n",
       "      <td>1.000000</td>\n",
       "      <td>1.000000</td>\n",
       "      <td>1.000000</td>\n",
       "      <td>1.000000</td>\n",
       "      <td>1.000000</td>\n",
       "      <td>1.000000</td>\n",
       "      <td>1.000000</td>\n",
       "      <td>1.000000</td>\n",
       "      <td>1.000000</td>\n",
       "      <td>1.000000</td>\n",
       "      <td>1.000000</td>\n",
       "      <td>1.000000</td>\n",
       "      <td>1.00000</td>\n",
       "    </tr>\n",
       "    <tr>\n",
       "      <th>15</th>\n",
       "      <td>170</td>\n",
       "      <td>0.451801</td>\n",
       "      <td>0.787575</td>\n",
       "      <td>0.957043</td>\n",
       "      <td>0.995814</td>\n",
       "      <td>0.999812</td>\n",
       "      <td>1.000000</td>\n",
       "      <td>1.000000</td>\n",
       "      <td>1.000000</td>\n",
       "      <td>1.000000</td>\n",
       "      <td>1.000000</td>\n",
       "      <td>1.000000</td>\n",
       "      <td>1.000000</td>\n",
       "      <td>1.000000</td>\n",
       "      <td>1.000000</td>\n",
       "      <td>1.000000</td>\n",
       "      <td>1.000000</td>\n",
       "      <td>1.000000</td>\n",
       "      <td>1.00000</td>\n",
       "    </tr>\n",
       "    <tr>\n",
       "      <th>16</th>\n",
       "      <td>180</td>\n",
       "      <td>0.473075</td>\n",
       "      <td>0.810149</td>\n",
       "      <td>0.965967</td>\n",
       "      <td>0.997203</td>\n",
       "      <td>0.999899</td>\n",
       "      <td>1.000000</td>\n",
       "      <td>1.000000</td>\n",
       "      <td>1.000000</td>\n",
       "      <td>1.000000</td>\n",
       "      <td>1.000000</td>\n",
       "      <td>1.000000</td>\n",
       "      <td>1.000000</td>\n",
       "      <td>1.000000</td>\n",
       "      <td>1.000000</td>\n",
       "      <td>1.000000</td>\n",
       "      <td>1.000000</td>\n",
       "      <td>1.000000</td>\n",
       "      <td>1.00000</td>\n",
       "    </tr>\n",
       "    <tr>\n",
       "      <th>17</th>\n",
       "      <td>190</td>\n",
       "      <td>0.493840</td>\n",
       "      <td>0.830625</td>\n",
       "      <td>0.973124</td>\n",
       "      <td>0.998140</td>\n",
       "      <td>1.000000</td>\n",
       "      <td>1.000000</td>\n",
       "      <td>1.000000</td>\n",
       "      <td>1.000000</td>\n",
       "      <td>1.000000</td>\n",
       "      <td>1.000000</td>\n",
       "      <td>1.000000</td>\n",
       "      <td>1.000000</td>\n",
       "      <td>1.000000</td>\n",
       "      <td>1.000000</td>\n",
       "      <td>1.000000</td>\n",
       "      <td>1.000000</td>\n",
       "      <td>1.000000</td>\n",
       "      <td>1.00000</td>\n",
       "    </tr>\n",
       "    <tr>\n",
       "      <th>18</th>\n",
       "      <td>200</td>\n",
       "      <td>0.514082</td>\n",
       "      <td>0.849149</td>\n",
       "      <td>0.978840</td>\n",
       "      <td>0.998769</td>\n",
       "      <td>1.000000</td>\n",
       "      <td>1.000000</td>\n",
       "      <td>1.000000</td>\n",
       "      <td>1.000000</td>\n",
       "      <td>1.000000</td>\n",
       "      <td>1.000000</td>\n",
       "      <td>1.000000</td>\n",
       "      <td>1.000000</td>\n",
       "      <td>1.000000</td>\n",
       "      <td>1.000000</td>\n",
       "      <td>1.000000</td>\n",
       "      <td>1.000000</td>\n",
       "      <td>1.000000</td>\n",
       "      <td>1.00000</td>\n",
       "    </tr>\n",
       "  </tbody>\n",
       "</table>\n",
       "</div>"
      ],
      "text/plain": [
       "    sample_size   d = 0.2   d = 0.3   d = 0.4   d = 0.5   d = 0.6   d = 0.7  \\\n",
       "0            20  0.094567  0.152268  0.234349  0.337939  0.456034  0.578290   \n",
       "1            30  0.118679  0.207852  0.331522  0.477897  0.627505  0.759905   \n",
       "2            40  0.143080  0.263284  0.423521  0.598147  0.754952  0.871133   \n",
       "3            50  0.167675  0.317802  0.508186  0.696893  0.843875  0.933907   \n",
       "4            60  0.192375  0.370802  0.584382  0.775266  0.903115  0.967314   \n",
       "5            70  0.217094  0.421819  0.651730  0.835822  0.941194  0.984313   \n",
       "6            80  0.241758  0.470512  0.710370  0.881602  0.964976  0.992660   \n",
       "7            90  0.266296  0.516642  0.760782  0.915587  0.979481  0.996639   \n",
       "8           100  0.290646  0.560059  0.803647  0.940427  0.988152  0.998490   \n",
       "9           110  0.314751  0.600687  0.839748  0.958341  0.993246  0.999333   \n",
       "10          120  0.338562  0.638505  0.869896  0.971109  0.996194  0.999709   \n",
       "11          130  0.362033  0.673544  0.894881  0.980114  0.997877  0.999875   \n",
       "12          140  0.385124  0.705866  0.915449  0.986407  0.998827  1.000000   \n",
       "13          150  0.407802  0.735567  0.932275  0.990768  0.999358  1.000000   \n",
       "14          160  0.430036  0.762761  0.945964  0.993766  0.999651  1.000000   \n",
       "15          170  0.451801  0.787575  0.957043  0.995814  0.999812  1.000000   \n",
       "16          180  0.473075  0.810149  0.965967  0.997203  0.999899  1.000000   \n",
       "17          190  0.493840  0.830625  0.973124  0.998140  1.000000  1.000000   \n",
       "18          200  0.514082  0.849149  0.978840  0.998769  1.000000  1.000000   \n",
       "\n",
       "     d = 0.8   d = 0.9   d = 1.0   d = 1.1   d = 1.2   d = 1.3   d = 1.4  \\\n",
       "0   0.693404  0.792036  0.868953  0.923550  0.958827  0.979575  0.990685   \n",
       "1   0.861423  0.928872  0.967708  0.987086  0.995465  0.998605  0.999625   \n",
       "2   0.942182  0.978044  0.992985  0.998122  0.999580  0.999922  1.000000   \n",
       "3   0.977279  0.993712  0.998607  0.999754  1.000000  1.000000  1.000000   \n",
       "4   0.991481  0.998300  0.999742  1.000000  1.000000  1.000000  1.000000   \n",
       "5   0.996925  0.999561  1.000000  1.000000  1.000000  1.000000  1.000000   \n",
       "6   0.998925  0.999891  1.000000  1.000000  1.000000  1.000000  1.000000   \n",
       "7   0.999634  1.000000  1.000000  1.000000  1.000000  1.000000  1.000000   \n",
       "8   0.999878  1.000000  1.000000  1.000000  1.000000  1.000000  1.000000   \n",
       "9   1.000000  1.000000  1.000000  1.000000  1.000000  1.000000  1.000000   \n",
       "10  1.000000  1.000000  1.000000  1.000000  1.000000  1.000000  1.000000   \n",
       "11  1.000000  1.000000  1.000000  1.000000  1.000000  1.000000  1.000000   \n",
       "12  1.000000  1.000000  1.000000  1.000000  1.000000  1.000000  1.000000   \n",
       "13  1.000000  1.000000  1.000000  1.000000  1.000000  1.000000  1.000000   \n",
       "14  1.000000  1.000000  1.000000  1.000000  1.000000  1.000000  1.000000   \n",
       "15  1.000000  1.000000  1.000000  1.000000  1.000000  1.000000  1.000000   \n",
       "16  1.000000  1.000000  1.000000  1.000000  1.000000  1.000000  1.000000   \n",
       "17  1.000000  1.000000  1.000000  1.000000  1.000000  1.000000  1.000000   \n",
       "18  1.000000  1.000000  1.000000  1.000000  1.000000  1.000000  1.000000   \n",
       "\n",
       "     d = 1.5   d = 1.6   d = 1.7   d = 1.8  d = 1.9  \n",
       "0   0.996100  0.998503  0.999473  0.999831  0.99995  \n",
       "1   0.999912  1.000000  1.000000  1.000000  1.00000  \n",
       "2   1.000000  1.000000  1.000000  1.000000  1.00000  \n",
       "3   1.000000  1.000000  1.000000  1.000000  1.00000  \n",
       "4   1.000000  1.000000  1.000000  1.000000  1.00000  \n",
       "5   1.000000  1.000000  1.000000  1.000000  1.00000  \n",
       "6   1.000000  1.000000  1.000000  1.000000  1.00000  \n",
       "7   1.000000  1.000000  1.000000  1.000000  1.00000  \n",
       "8   1.000000  1.000000  1.000000  1.000000  1.00000  \n",
       "9   1.000000  1.000000  1.000000  1.000000  1.00000  \n",
       "10  1.000000  1.000000  1.000000  1.000000  1.00000  \n",
       "11  1.000000  1.000000  1.000000  1.000000  1.00000  \n",
       "12  1.000000  1.000000  1.000000  1.000000  1.00000  \n",
       "13  1.000000  1.000000  1.000000  1.000000  1.00000  \n",
       "14  1.000000  1.000000  1.000000  1.000000  1.00000  \n",
       "15  1.000000  1.000000  1.000000  1.000000  1.00000  \n",
       "16  1.000000  1.000000  1.000000  1.000000  1.00000  \n",
       "17  1.000000  1.000000  1.000000  1.000000  1.00000  \n",
       "18  1.000000  1.000000  1.000000  1.000000  1.00000  "
      ]
     },
     "execution_count": 50,
     "metadata": {},
     "output_type": "execute_result"
    }
   ],
   "source": [
    "## create list of d values\n",
    "d_vals = [x/10.0 for x in range(2,20)]\n",
    "\n",
    "## Initialize data frame\n",
    "powers = pd.DataFrame({'sample_size':range(20,210,10)})\n",
    "## Loop over d values\n",
    "for d_val in d_vals:\n",
    "    col_name = 'd = ' + str(d_val)\n",
    "    ## List comprehension for each d value itterating over the sample sizes\n",
    "    powers[col_name] = [tt_ind_solve_power(effect_size=d_val, nobs1 = x, alpha=0.05, power=None, ratio=1, alternative='two-sided')\n",
    "                      for x in range(20,210,10)]\n",
    "        \n",
    "powers   "
   ]
  },
  {
   "cell_type": "code",
   "execution_count": 51,
   "metadata": {},
   "outputs": [
    {
     "data": {
      "text/plain": [
       "Text(0.5, 0, 'Sample Size')"
      ]
     },
     "execution_count": 51,
     "metadata": {},
     "output_type": "execute_result"
    },
    {
     "data": {
      "image/png": "[encoded data removed]",
      "text/plain": [
       "<Figure size 864x720 with 1 Axes>"
      ]
     },
     "metadata": {
      "needs_background": "light"
     },
     "output_type": "display_data"
    }
   ],
   "source": [
    "import matplotlib.pyplot as plt\n",
    "%matplotlib inline\n",
    "fig = plt.figure(figsize=(12,10)) # define plot area\n",
    "ax = fig.gca() # define axis\n",
    "powers.plot(x = 'sample_size', ax = ax, linestyle = '-.')\n",
    "plt.hlines(y = 0.8, xmin = 20, xmax = 200, color = 'red', linestyle = '--')\n",
    "plt.title('Power vs. sample size for values of d')\n",
    "plt.ylabel('Power')\n",
    "plt.xlabel('Sample Size')"
   ]
  },
  {
   "cell_type": "markdown",
   "metadata": {},
   "source": [
    "##  The graph above depicts the power/sample size distribution for a given cohen's d effect size. \n",
    "\n",
    "### <font color ='red'> For question #2:  With an effect magnitude of 0.60 the required sample size is n=45 to achieve the goal for 80% power.  "
   ]
  },
  {
   "cell_type": "markdown",
   "metadata": {},
   "source": [
    "##  <font color ='red'> Q3.\n",
    "    \n",
    "## <font color = 'red'> Design an experiment to test the impact of new features not present in the data set\n",
    "###<font color = 'blue'> As the new city planner, I have been looking for ideas to make the city more desirable, and increasing property values.  \n",
    "\n",
    "Research has shown that nature trails have positive impact on property value, offer residence solidarity, and require minimum city maintenance compared to parks.  Maintaince could actualy be delegated to volunteer groups advocating hiking or moutain biking.   This would be a win win for the city.  \n",
    "\n",
    "A Texas based study (sales from a single county) from headwater economic estimated the effect for a variety of features including various trails, tennis courts and neighborhood pools.   \n",
    "https://headwaterseconomics.org/trail/23-impacts-trails-greenbelts-home-price/\n",
    "\n",
    "##  Nature trails with attached greenbelt exhibited the highest effect of 5%.    \n",
    "\n"
   ]
  },
  {
   "cell_type": "code",
   "execution_count": 52,
   "metadata": {},
   "outputs": [
    {
     "data": {
      "text/plain": [
       "(array([ 21.,  48.,  81., 147.,  96.,  39.,  30.,  13.,   8.,   7.]),\n",
       " array([ 5.  ,  9.38, 13.76, 18.14, 22.52, 26.9 , 31.28, 35.66, 40.04,\n",
       "        44.42, 48.8 ]),\n",
       " <a list of 10 Patch objects>)"
      ]
     },
     "execution_count": 52,
     "metadata": {},
     "output_type": "execute_result"
    },
    {
     "data": {
      "image/png": "[encoded data removed]",
      "text/plain": [
       "<Figure size 432x288 with 1 Axes>"
      ]
     },
     "metadata": {
      "needs_background": "light"
     },
     "output_type": "display_data"
    }
   ],
   "source": [
    "plt.hist(df2['MEDV'])"
   ]
  },
  {
   "cell_type": "code",
   "execution_count": 53,
   "metadata": {},
   "outputs": [
    {
     "data": {
      "text/plain": [
       "count    490.000000\n",
       "mean      21.635918\n",
       "std        7.865301\n",
       "min        5.000000\n",
       "25%       16.700000\n",
       "50%       20.900000\n",
       "75%       24.675000\n",
       "max       48.800000\n",
       "Name: MEDV, dtype: float64"
      ]
     },
     "execution_count": 53,
     "metadata": {},
     "output_type": "execute_result"
    }
   ],
   "source": [
    "df2['MEDV'].describe()"
   ]
  },
  {
   "cell_type": "markdown",
   "metadata": {},
   "source": [
    " ## With the maximum expected impact from greenbelt trails the city could see a mean value improvment from 21.63 to 22.71 "
   ]
  },
  {
   "cell_type": "code",
   "execution_count": 54,
   "metadata": {},
   "outputs": [
    {
     "data": {
      "text/plain": [
       "6280.049008707864"
      ]
     },
     "execution_count": 54,
     "metadata": {},
     "output_type": "execute_result"
    }
   ],
   "source": [
    "#Cohen's d question\n",
    "from statsmodels.stats.power import tt_ind_solve_power\n",
    "tt_ind_solve_power(effect_size=.05, nobs1 = None, alpha=0.05, power=.8, ratio=1, alternative='two-sided')"
   ]
  },
  {
   "cell_type": "markdown",
   "metadata": {},
   "source": [
    "## In order to test for an effect as small as 5% a significant sample size is required.  Over 3,000 tracks will have to be studied to achieve a statistical power of 50%   \n",
    "\n",
    "## Over 6,000 samples would be required to achieve 80% power.  \n",
    "\n",
    "## <font color = 'red'> Expanding this type of research to more than one state and county could reveal larger effect sizes in certain circumstances.  For instance the prescence of a green belt nature trail in proximity of urban or suburban cities.  "
   ]
  },
  {
   "cell_type": "markdown",
   "metadata": {},
   "source": [
    "## Q3 Continued:  In addition to adding natrue trails two parameters within the data set have peaked interest(RM, PTRATIO).  A multireggression model with training is desired to predict median values.    "
   ]
  },
  {
   "cell_type": "code",
   "execution_count": 55,
   "metadata": {},
   "outputs": [
    {
     "data": {
      "text/html": [
       "<div>\n",
       "<style scoped>\n",
       "    .dataframe tbody tr th:only-of-type {\n",
       "        vertical-align: middle;\n",
       "    }\n",
       "\n",
       "    .dataframe tbody tr th {\n",
       "        vertical-align: top;\n",
       "    }\n",
       "\n",
       "    .dataframe thead th {\n",
       "        text-align: right;\n",
       "    }\n",
       "</style>\n",
       "<table border=\"1\" class=\"dataframe\">\n",
       "  <thead>\n",
       "    <tr style=\"text-align: right;\">\n",
       "      <th></th>\n",
       "      <th>CHAS</th>\n",
       "      <th>MEDV</th>\n",
       "    </tr>\n",
       "  </thead>\n",
       "  <tbody>\n",
       "    <tr>\n",
       "      <th>142</th>\n",
       "      <td>1.0</td>\n",
       "      <td>13.4</td>\n",
       "    </tr>\n",
       "    <tr>\n",
       "      <th>152</th>\n",
       "      <td>1.0</td>\n",
       "      <td>15.3</td>\n",
       "    </tr>\n",
       "    <tr>\n",
       "      <th>154</th>\n",
       "      <td>1.0</td>\n",
       "      <td>17.0</td>\n",
       "    </tr>\n",
       "    <tr>\n",
       "      <th>155</th>\n",
       "      <td>1.0</td>\n",
       "      <td>15.6</td>\n",
       "    </tr>\n",
       "    <tr>\n",
       "      <th>160</th>\n",
       "      <td>1.0</td>\n",
       "      <td>27.0</td>\n",
       "    </tr>\n",
       "  </tbody>\n",
       "</table>\n",
       "</div>"
      ],
      "text/plain": [
       "     CHAS  MEDV\n",
       "142   1.0  13.4\n",
       "152   1.0  15.3\n",
       "154   1.0  17.0\n",
       "155   1.0  15.6\n",
       "160   1.0  27.0"
      ]
     },
     "execution_count": 55,
     "metadata": {},
     "output_type": "execute_result"
    }
   ],
   "source": [
    "df5.head()"
   ]
  },
  {
   "cell_type": "code",
   "execution_count": 56,
   "metadata": {
    "scrolled": true
   },
   "outputs": [],
   "source": [
    "X = df2[['RM', 'PTRATIO']]\n",
    "y = df2['MEDV']\n",
    "model = sm.OLS(y, X).fit()\n",
    "predictions = model.predict(X)\n",
    "#model.summary()\n"
   ]
  },
  {
   "cell_type": "code",
   "execution_count": null,
   "metadata": {},
   "outputs": [],
   "source": []
  },
  {
   "cell_type": "code",
   "execution_count": 57,
   "metadata": {
    "scrolled": true
   },
   "outputs": [
    {
     "name": "stdout",
     "output_type": "stream",
     "text": [
      "R² of the model is:  0.58\n",
      "variable coefficients of the model are:  [ 7.04257432 -1.29361186]\n",
      "Y intercept of the model is:  1.61\n",
      "The equation for relationship is: 1.61+7.04(RM)-1.29(PTRATIO)\n"
     ]
    }
   ],
   "source": [
    "import sklearn\n",
    "from sklearn import linear_model\n",
    "from sklearn.linear_model import LinearRegression\n",
    "\n",
    "X = df2[['RM', 'PTRATIO']]\n",
    "y = df2['MEDV']\n",
    "\n",
    "lm=linear_model.LinearRegression()\n",
    "model = lm.fit(X,y)\n",
    "predictions = model.predict(X)\n",
    "#print(predictions)\n",
    "print('R² of the model is: ', round(lm.score(X,y),2))\n",
    "print('variable coefficients of the model are: ', lm.coef_)\n",
    "print('Y intercept of the model is: ', round(lm.intercept_,2))\n",
    "print('The equation for relationship is: 1.61+7.04(RM)-1.29(PTRATIO)')\n",
    "\n",
    "\n"
   ]
  },
  {
   "cell_type": "markdown",
   "metadata": {},
   "source": [
    "## Another version with more sophisticated code"
   ]
  },
  {
   "cell_type": "code",
   "execution_count": 58,
   "metadata": {},
   "outputs": [
    {
     "name": "stdout",
     "output_type": "stream",
     "text": [
      "Regression coef: [ 7.04257432 -1.29361186]\n",
      "Intercept value 1.6094133462519302\n",
      "R² value 0.5815885778012708\n",
      "MEDV Predict [39.12034498]\n"
     ]
    }
   ],
   "source": [
    "reg=linear_model.LinearRegression()\n",
    "reg.fit(df2[['RM','PTRATIO']],df2.MEDV)\n",
    "print('Regression coef:', reg.coef_)\n",
    "print('Intercept value', reg.intercept_)\n",
    "print('R² value',reg.score(X,y))\n",
    "print('MEDV Predict',reg.predict([[9,20]]))\n",
    "\n"
   ]
  },
  {
   "cell_type": "markdown",
   "metadata": {},
   "source": [
    "## This relationship will help the city planner establish zoning standards.\n",
    "   1. Acceptable number of rooms or bed rooms for new constructions or remodels.   \n",
    "   2. Need for additional schools or school improvments. "
   ]
  },
  {
   "cell_type": "code",
   "execution_count": null,
   "metadata": {},
   "outputs": [],
   "source": []
  },
  {
   "cell_type": "code",
   "execution_count": null,
   "metadata": {},
   "outputs": [],
   "source": []
  },
  {
   "cell_type": "code",
   "execution_count": null,
   "metadata": {},
   "outputs": [],
   "source": []
  }
 ],
 "metadata": {
  "kernelspec": {
   "display_name": "Python 3",
   "language": "python",
   "name": "python3"
  },
  "language_info": {
   "codemirror_mode": {
    "name": "ipython",
    "version": 3
   },
   "file_extension": ".py",
   "mimetype": "text/x-python",
   "name": "python",
   "nbconvert_exporter": "python",
   "pygments_lexer": "ipython3",
   "version": "3.7.6"
  }
 },
 "nbformat": 4,
 "nbformat_minor": 4
}
